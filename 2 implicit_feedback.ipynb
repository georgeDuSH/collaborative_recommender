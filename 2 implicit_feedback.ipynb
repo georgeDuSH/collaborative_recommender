{
 "cells": [
  {
   "cell_type": "code",
   "execution_count": 1,
   "metadata": {},
   "outputs": [
    {
     "name": "stdout",
     "output_type": "stream",
     "text": [
      "Users: 610, Items: 9724. Sparsity: 0.983\n",
      "User reduced from 610 to 607\n"
     ]
    }
   ],
   "source": [
    "from recom.datasets import load_ml_small_rating\n",
    "\n",
    "# load data\n",
    "dataset = load_ml_small_rating(need_raw=True)\n",
    "\n",
    "# load features\n",
    "ratings = dataset['raw']\n",
    "ratings_train_dict = dataset['train_dict']\n",
    "ratings_test_dict = dataset['test_dict']\n",
    "n_user = dataset['n_user']\n",
    "n_item = dataset['n_item']\n",
    "user2ix = dataset['user2ix']\n",
    "ix2user = dataset['ix2user']\n",
    "item2ix = dataset['item2ix']\n",
    "ix2item = dataset['ix2item']\n",
    "\n",
    "del dataset\n",
    "\n",
    "print(f'Users: {n_user}, Items: {n_item}. Sparsity: {round(1-len(ratings)/n_user/n_item, 4)}')\n",
    "print(f'User reduced from {len(user2ix.keys())} to {len(ratings_train_dict.keys())}')"
   ]
  },
  {
   "cell_type": "code",
   "execution_count": 47,
   "metadata": {},
   "outputs": [
    {
     "name": "stdout",
     "output_type": "stream",
     "text": [
      "Epoch: 4, Time: 3.88, /Average loss 27.49673\n",
      "Epoch: 8, Time: 3.4, /Average loss 19.4202\n",
      "Epoch: 12, Time: 3.58, /Average loss 19.04895\n",
      "Epoch: 16, Time: 4.11, /Average loss 20.19342\n",
      "Epoch: 20, Time: 3.94, /Average loss 16.62968\n",
      "Epoch: 24, Time: 4.02, /Average loss 18.99509\n",
      "Epoch: 28, Time: 4.08, /Average loss 21.68209\n",
      "Epoch: 32, Time: 3.94, /Average loss 17.52569\n"
     ]
    },
    {
     "data": {
      "text/plain": [
       "BPR(\n",
       "  (embedding_user): Embedding(610, 32)\n",
       "  (embedding_item): Embedding(9724, 32)\n",
       ")"
      ]
     },
     "execution_count": 47,
     "metadata": {},
     "output_type": "execute_result"
    }
   ],
   "source": [
    "from recom.model.pairwise import BPR\n",
    "from torch import optim\n",
    "import warnings\n",
    "warnings.filterwarnings(\"ignore\")\n",
    "\n",
    "k_dim = 32\n",
    "std_user = 1\n",
    "std_item = 1\n",
    "\n",
    "bpr = BPR(\n",
    "    n_user=n_user, n_item=n_item\n",
    "    , k_dim=k_dim\n",
    "    , std_user=std_user\n",
    "    , std_item=std_item\n",
    ")\n",
    "opt = optim.SGD(bpr.parameters(), lr=0.1, weight_decay=0.01, momentum=0.01)\n",
    "\n",
    "bpr.fit(ratings_train_dict, opt\n",
    "    , n_epochs=32, use_cuda=False\n",
    "    # , user_per_ep=128\n",
    "    # , pos_item_per_ep=4\n",
    "    # , neg_sample_size=4\n",
    "    , report_interval=4\n",
    ")"
   ]
  },
  {
   "cell_type": "code",
   "execution_count": 48,
   "metadata": {},
   "outputs": [
    {
     "data": {
      "text/plain": [
       "[<matplotlib.lines.Line2D at 0x1b991b6bb20>]"
      ]
     },
     "execution_count": 48,
     "metadata": {},
     "output_type": "execute_result"
    },
    {
     "data": {
      "image/png": "[encoded data removed]",
      "text/plain": [
       "<Figure size 432x288 with 1 Axes>"
      ]
     },
     "metadata": {
      "needs_background": "light"
     },
     "output_type": "display_data"
    }
   ],
   "source": [
    "import matplotlib.pyplot as plt\n",
    "\n",
    "loss = bpr.last_train_loss\n",
    "\n",
    "plt.plot(list(range(len(loss))), loss)"
   ]
  },
  {
   "cell_type": "code",
   "execution_count": null,
   "metadata": {},
   "outputs": [],
   "source": []
  }
 ],
 "metadata": {
  "kernelspec": {
   "display_name": "Python 3",
   "language": "python",
   "name": "python3"
  },
  "language_info": {
   "codemirror_mode": {
    "name": "ipython",
    "version": 3
   },
   "file_extension": ".py",
   "mimetype": "text/x-python",
   "name": "python",
   "nbconvert_exporter": "python",
   "pygments_lexer": "ipython3",
   "version": "3.8.10 (tags/v3.8.10:3d8993a, May  3 2021, 11:48:03) [MSC v.1928 64 bit (AMD64)]"
  },
  "orig_nbformat": 4,
  "vscode": {
   "interpreter": {
    "hash": "00499476119a38fdac92034240d7ef2fa4f5985bf02d398f0fd3693908f0286e"
   }
  }
 },
 "nbformat": 4,
 "nbformat_minor": 2
}
