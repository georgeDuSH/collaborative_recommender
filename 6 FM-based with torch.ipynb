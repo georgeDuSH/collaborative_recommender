{
 "cells": [
  {
   "cell_type": "code",
   "execution_count": 3,
   "metadata": {},
   "outputs": [
    {
     "name": "stdout",
     "output_type": "stream",
     "text": [
      "Users: 610, Items: 9724. Sparsity: 0.9831\n",
      "User reduced from 610 to 609\n",
      "Total genres 20. Average genres 2.2636774989716164.\n"
     ]
    }
   ],
   "source": [
    "# Target: Predict users rating on movies with collaborative effect and side information\n",
    "# with users', movies' ID and movies' genres.\n",
    "# With these ID like sparse features, and users' ratings, we can construct a regression problem.\n",
    "\n",
    "\n",
    "# Firstly, load all the data required\n",
    "from recom.datasets import load_ml_small_rating, load_movie_genres\n",
    "\n",
    "# rating dataset\n",
    "dataset = load_ml_small_rating(need_raw=True, time_ord=True, test_perc=0.1)\n",
    "# load features\n",
    "ratings = dataset['raw']    \n",
    "ratings_train_dict = dataset['train_dict']\n",
    "ratings_test_dict = dataset['test_dict']\n",
    "n_user = dataset['n_user']\n",
    "n_item = dataset['n_item']\n",
    "user2ix = dataset['user2ix']\n",
    "ix2user = dataset['ix2user']\n",
    "item2ix = dataset['item2ix']\n",
    "ix2item = dataset['ix2item']\n",
    "\n",
    "del dataset\n",
    "\n",
    "# genre info\n",
    "genres = load_movie_genres('./recom/datasets/ml-small/movies.csv', sep=',')\n",
    "genre_vec = {item2ix[item]:genres['g_vec'][item]\n",
    "             for item in item2ix}\n",
    "genre_dict = {item2ix[item]:[item for item in genres['g_base'][item].split('|') if item != '(no genres listed)']\n",
    "              for item in item2ix}\n",
    "genre2ix = genres['g2ix']\n",
    "ix2genre = genres['ix2g']\n",
    "n_genre = len(genres['g2ix'])\n",
    "\n",
    "del genres\n",
    "\n",
    "print(f'Users: {n_user}, Items: {n_item}. Sparsity: {round(1-len(ratings)/n_user/n_item, 4)}')\n",
    "print(f'User reduced from {len(user2ix.keys())} to {len(ratings_train_dict.keys())}')\n",
    "print(f'Total genres {len(genre2ix)}. Average genres {sum([sum(i[1]) for i in genre_vec.items()])/len(genre_vec)}.')"
   ]
  },
  {
   "cell_type": "code",
   "execution_count": 4,
   "metadata": {},
   "outputs": [
    {
     "name": "stdout",
     "output_type": "stream",
     "text": [
      "Training dataset shape: torch.Size([73386, 10354])\n",
      "Testing dataset shape: torch.Size([7843, 10354])\n"
     ]
    }
   ],
   "source": [
    "def create_sparse_ratings(rat_dict, genre_dict, n_user, n_item, g2ix):\n",
    "    import torch\n",
    "\n",
    "    n_row = sum([len(i[-1]) for i in list(rat_dict.items())])\n",
    "    n_col = n_user + n_item + len(g2ix)\n",
    "    # dataset\n",
    "    X = torch.zeros([n_row, n_col])\n",
    "    y = torch.zeros([n_row, ])\n",
    "\n",
    "    line = 0\n",
    "    for user in rat_dict:\n",
    "        for item in rat_dict[user]:\n",
    "            # One-hot features\n",
    "            X[line, user]=1\n",
    "            X[line, n_user+item]=1\n",
    "            for genre in genre_dict[item]:\n",
    "                gix = g2ix[genre]\n",
    "                X[line, n_user+n_item+gix]=1\n",
    "            # Ratings\n",
    "            y[line] = rat_dict[user][item]\n",
    "            # move to the next line\n",
    "            line+=1\n",
    "\n",
    "    return X, y\n",
    "\n",
    "\n",
    "def fm_data_loader(X, y, batch_size=128, shuffle=True):\n",
    "    from torch.utils.data import DataLoader\n",
    "\n",
    "    return DataLoader(list(zip(X, y)), batch_size=128, shuffle=True)\n",
    "    \n",
    "\n",
    "\n",
    "\n",
    "train_X, train_y = create_sparse_ratings(ratings_train_dict, genre_dict, n_user, n_item, genre2ix)\n",
    "train_dl = fm_data_loader(train_X, train_y, batch_size=128, shuffle=True)\n",
    "print(f'Training dataset shape: {train_X.shape}')\n",
    "\n",
    "test_X, test_y = create_sparse_ratings(ratings_test_dict, genre_dict, n_user, n_item, genre2ix)\n",
    "print(f'Testing dataset shape: {test_X.shape}')"
   ]
  },
  {
   "cell_type": "code",
   "execution_count": 59,
   "metadata": {},
   "outputs": [],
   "source": [
    "def fm_neg_sampler(rat_dict, genre_dict, g2ix, neg_size, neg_dict):\n",
    "    import torch\n",
    "    import random\n",
    "\n",
    "    n_row = sum([len(i[-1]) for i in list(rat_dict.items())])\n",
    "    n_col = n_user + n_item + len(g2ix)\n",
    "\n",
    "    # dataset\n",
    "    X = torch.zeros([n_row*neg_size, n_col])\n",
    "    y = torch.zeros([n_row*neg_size, ])\n",
    "\n",
    "    line = 0\n",
    "    for user in rat_dict:\n",
    "        for item in rat_dict[user]:\n",
    "            # One-hot features\n",
    "            X[line, user]=1\n",
    "            rand_item = random.choice(neg_dict[user])\n",
    "            X[line, n_user+rand_item]=1\n",
    "            for genre in genre_dict[rand_item]:\n",
    "                gix = g2ix[genre]\n",
    "                X[line, n_user+n_item+gix]=1\n",
    "            # Ratings\n",
    "            y[line] = 0\n",
    "            # move to the next line\n",
    "            line+=1\n",
    "\n",
    "    return X, y\n",
    "\n",
    "\n",
    "# items = list(range(n_item))\n",
    "# user_neg_dict = {\n",
    "#     u:list(set(items)-set(ratings_train_dict[u].keys()))\n",
    "#      for u in ratings_train_dict\n",
    "# }\n",
    "\n",
    "# Here my memory do not support such negative sampling, but it indeed can work\n",
    "# neg_X, neg_y = fm_neg_sampler(ratings_train_dict, genre_dict, genre2ix, neg_size=1, neg_dict=user_neg_dict)\n",
    "# neg_X.shape, neg_y.shape"
   ]
  },
  {
   "cell_type": "code",
   "execution_count": 6,
   "metadata": {},
   "outputs": [],
   "source": [
    "import torch.nn as nn\n",
    "from torch import Tensor, LongTensor\n",
    "\n",
    "\n",
    "class LinearReg(nn.Module):\n",
    "    \"\"\" Linear Regression Baseline \"\"\"\n",
    "    def __init__(self, n_feat) -> None:\n",
    "        super(LinearReg, self).__init__()\n",
    "        self.Linear = nn.Linear(n_feat, 1)\n",
    "        nn.init.normal_(self.Linear.weight, mean=0, std=0.1)\n",
    "\n",
    "    def forward(self, x):\n",
    "        return self.Linear(x).squeeze()\n",
    "\n",
    "\n",
    "class FM(nn.Module):\n",
    "    \"\"\" Factorization Machine Regressor \"\"\"\n",
    "    def __init__(self, n_feat, k_dim) -> None:\n",
    "        super(FM, self).__init__()\n",
    "        self.Linear = nn.Linear(n_feat, 1)\n",
    "        self.embedding_feat = nn.Embedding(n_feat, k_dim)\n",
    "        # init param\n",
    "        nn.init.normal_(self.Linear.weight, mean=0, std=0.1)\n",
    "        nn.init.normal_(self.embedding_feat.weight, mean=0, std=0.1)\n",
    "\n",
    "    def forward(self, x):\n",
    "        product = x @ self.embedding_feat.weight\n",
    "        sq_of_sum = (product.sum(1))**2\n",
    "        sum_of_sq = (product**2).sum(1)\n",
    "\n",
    "        return self.Linear(x).squeeze() + 0.5*(sq_of_sum-sum_of_sq)\n"
   ]
  },
  {
   "cell_type": "code",
   "execution_count": 8,
   "metadata": {},
   "outputs": [
    {
     "name": "stdout",
     "output_type": "stream",
     "text": [
      "Epoch: 4, Time: 77.82,  /Average train loss 0.76106\n",
      "\t\t\t/Average test loss 0.66231\n",
      "Epoch: 8, Time: 13.08,  /Average train loss 0.56807\n",
      "\t\t\t/Average test loss 0.63581\n",
      "Epoch: 12, Time: 14.69,  /Average train loss 0.56751\n",
      "\t\t\t/Average test loss 0.63762\n",
      "Epoch: 16, Time: 14.17,  /Average train loss 0.56775\n",
      "\t\t\t/Average test loss 0.64028\n"
     ]
    }
   ],
   "source": [
    "import time\n",
    "from torch import autograd, LongTensor, device\n",
    "from torch import optim\n",
    "import numpy as np\n",
    "\n",
    "\n",
    "def SE(input, target):\n",
    "    return (target-input)**2\n",
    "\n",
    "\n",
    "def train_model(model, opt\n",
    "                , train_X, train_y, test_X=None, test_y=None\n",
    "                , use_cuda=False, n_epochs=16, report_interval=4):\n",
    "    if use_cuda:\n",
    "        compute_device = device('cuda')\n",
    "        model.cuda()\n",
    "        train_X, train_y = train_X.to(compute_device), train_y.to(compute_device)\n",
    "        if test_X is not None:\n",
    "            test_X, test_y = test_X.to(compute_device), test_y.to(compute_device)\n",
    "    else:\n",
    "        compute_device = device('cpu')\n",
    "\n",
    "    train_loss_by_ep = []\n",
    "    test_rmse_by_ep = []\n",
    "\n",
    "    t0 = time.time()\n",
    "    for epoch in range(n_epochs):\n",
    "        train_data = fm_data_loader(train_X, train_y, batch_size=128, shuffle=True)\n",
    "\n",
    "        ep_loss = []\n",
    "        for i, batch in enumerate(train_data):\n",
    "            Xs, score = batch\n",
    "\n",
    "            model.zero_grad()\n",
    "\n",
    "            Xs = autograd.Variable(Xs).to(compute_device)\n",
    "\n",
    "            preds = model(Xs)\n",
    "            loss = SE(input=preds, target=score)\n",
    "            loss.mean().backward()\n",
    "            opt.step()\n",
    "            ep_loss.extend(loss.data.to(compute_device).tolist())\n",
    "\n",
    "        train_loss_by_ep.append(np.sqrt(np.mean(ep_loss)))\n",
    "        \n",
    "        # test\n",
    "        preds = model(test_X)\n",
    "        test_rmse = SE(preds, test_y).mean().sqrt()\n",
    "        test_rmse_by_ep.append(test_rmse.data.to(compute_device).tolist())\n",
    "\n",
    "        if report_interval > 0 \\\n",
    "                and ((epoch+1) % report_interval == 0):\n",
    "            \n",
    "            t1=time.time()\n",
    "            print(f'Epoch: {epoch+1}, Time: {round(t1-t0,2)},  /Average train loss {round(sum(train_loss_by_ep[-report_interval:])/report_interval, 5)}')\n",
    "            print(f'\\t\\t\\t/Average test loss {round(sum(test_rmse_by_ep[-report_interval:])/report_interval, 5)}')\n",
    "            t0=time.time()\n",
    "\n",
    "    model = model.to('cpu') # send to cpu anyway\n",
    "    \n",
    "    return model, train_loss_by_ep, test_rmse_by_ep\n",
    "\n",
    "\n",
    "# Init Model\n",
    "K_DIM = 12\n",
    "N_EPOCHS = 16\n",
    "REPORT_INTERVAL = 4\n",
    "USE_CUDA = False\n",
    "\n",
    "n_feat = n_user + n_item + n_genre\n",
    "\n",
    "# Ridge Regression\n",
    "lm = LinearReg(n_feat=n_feat)\n",
    "lm_opt = optim.Adam(lm.parameters(), lr=0.01, weight_decay=1e-7)\n",
    "lm, lm_train_loss, lm_test_rmse = train_model(lm, lm_opt\n",
    "                                              , train_X, train_y, test_X=test_X, test_y=test_y\n",
    "                                              , use_cuda=False, n_epochs=N_EPOCHS, report_interval=REPORT_INTERVAL)\n",
    "\n",
    "# Factorization Machine Regression\n",
    "# fm = FM(n_feat=n_feat, k_dim=K_DIM)\n",
    "# fm_opt = optim.Adam(fm.parameters(), lr=0.001, weight_decay=1e-5)\n",
    "# fm, fm_train_loss, fm_test_rmse = train_model(fm, fm_opt\n",
    "#                                               , train_X, train_y, test_X=test_X, test_y=test_y\n",
    "#                                               , use_cuda=False, n_epochs=N_EPOCHS, report_interval=REPORT_INTERVAL)\n",
    "\n",
    "# D"
   ]
  },
  {
   "cell_type": "code",
   "execution_count": 26,
   "metadata": {},
   "outputs": [
    {
     "name": "stdout",
     "output_type": "stream",
     "text": [
      "Epoch: 4, Time: 77.84,  /Average train loss 0.84737\n",
      "\t\t\t/Average test loss 0.73789\n",
      "Epoch: 8, Time: 25.29,  /Average train loss 0.57787\n",
      "\t\t\t/Average test loss 0.67515\n",
      "Epoch: 12, Time: 21.06,  /Average train loss 0.55985\n",
      "\t\t\t/Average test loss 0.65327\n",
      "Epoch: 16, Time: 20.03,  /Average train loss 0.53916\n",
      "\t\t\t/Average test loss 0.64258\n"
     ]
    }
   ],
   "source": [
    "# Factorization Machine Regression\n",
    "fm = FM(n_feat=n_feat, k_dim=4)\n",
    "fm_opt = optim.Adam(fm.parameters(), lr=0.004, weight_decay=1e-5)\n",
    "fm, fm_train_loss, fm_test_rmse = train_model(fm, fm_opt\n",
    "                                              , train_X, train_y, test_X=test_X, test_y=test_y\n",
    "                                              , use_cuda=False, n_epochs=N_EPOCHS, report_interval=REPORT_INTERVAL)\n"
   ]
  },
  {
   "cell_type": "code",
   "execution_count": 28,
   "metadata": {},
   "outputs": [
    {
     "data": {
      "text/plain": [
       "([0.567760560882912,\n",
       "  0.5680888370650966,\n",
       "  0.5676327684371596,\n",
       "  0.5676427542632047,\n",
       "  0.5676372170987247],\n",
       " [0.5524458540773262,\n",
       "  0.547445402621382,\n",
       "  0.5421553850955634,\n",
       "  0.5361405382183604,\n",
       "  0.5309051617574687])"
      ]
     },
     "execution_count": 28,
     "metadata": {},
     "output_type": "execute_result"
    }
   ],
   "source": [
    "lm_train_loss[-5:], fm_train_loss[-5:]"
   ]
  },
  {
   "cell_type": "code",
   "execution_count": 27,
   "metadata": {},
   "outputs": [
    {
     "data": {
      "image/png": "[encoded data removed]",
      "text/plain": [
       "<Figure size 864x432 with 2 Axes>"
      ]
     },
     "metadata": {
      "needs_background": "light"
     },
     "output_type": "display_data"
    }
   ],
   "source": [
    "import matplotlib.pyplot as plt\n",
    "\n",
    "fig, ax = plt.subplots(1, 2, figsize=(12, 6))\n",
    "\n",
    "# Cut your window in 1 row and 2 columns, and start a plot in the first part\n",
    "plt.subplot(121)\n",
    "plt.plot(list(range(N_EPOCHS)), lm_train_loss)\n",
    "plt.plot(list(range(N_EPOCHS)), fm_train_loss)\n",
    "plt.axhline(y=1, color='grey', linestyle='--')\n",
    "plt.legend(['Ridge', 'FM'])\n",
    "plt.title(\"Train loss for FMs by epoch\")\n",
    "plt.ylim([0,1.5])\n",
    "\n",
    "# And now add something in the second part:\n",
    "plt.subplot(122)\n",
    "plt.plot(list(range(N_EPOCHS)), lm_test_rmse)\n",
    "plt.plot(list(range(N_EPOCHS)), fm_test_rmse)\n",
    "plt.axhline(y=1, color='grey', linestyle='--')\n",
    "plt.legend(['Ridge', 'FM'])\n",
    "plt.title(\"Test RMSE for FMs by epoch\")\n",
    "plt.ylim([0,1.5])\n",
    "\n",
    "# Show the graph\n",
    "plt.show()"
   ]
  },
  {
   "cell_type": "code",
   "execution_count": null,
   "metadata": {},
   "outputs": [],
   "source": []
  }
 ],
 "metadata": {
  "kernelspec": {
   "display_name": "Python 3",
   "language": "python",
   "name": "python3"
  },
  "language_info": {
   "codemirror_mode": {
    "name": "ipython",
    "version": 3
   },
   "file_extension": ".py",
   "mimetype": "text/x-python",
   "name": "python",
   "nbconvert_exporter": "python",
   "pygments_lexer": "ipython3",
   "version": "3.8.10"
  },
  "orig_nbformat": 4,
  "vscode": {
   "interpreter": {
    "hash": "00499476119a38fdac92034240d7ef2fa4f5985bf02d398f0fd3693908f0286e"
   }
  }
 },
 "nbformat": 4,
 "nbformat_minor": 2
}
