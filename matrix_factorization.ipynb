{
 "cells": [
  {
   "cell_type": "code",
   "execution_count": 1,
   "metadata": {},
   "outputs": [
    {
     "name": "stdout",
     "output_type": "stream",
     "text": [
      "Users: 610, Items: 9724. Sparsity: 0.9830003169443864\n"
     ]
    }
   ],
   "source": [
    "import random\n",
    "\n",
    "def file_reader_movie_lens_rating(path='', sep='::'):\n",
    "    \"\"\" read in rating dataset from movie lens\n",
    "\n",
    "    :param path:\n",
    "    :param sep:\n",
    "    :return:\n",
    "    \"\"\"\n",
    "    f = open(file=path, mode='r')\n",
    "    if sep==',':\n",
    "        f.readline() # skip header\n",
    "    rats = []\n",
    "    f_line = f.readline()\n",
    "    while True:\n",
    "        if not f_line:\n",
    "            break\n",
    "        # parse\n",
    "        user, item, rating, timestamp = f_line.strip().split(sep)\n",
    "        rats.append([user, item, rating])\n",
    "\n",
    "        f_line = f.readline()\n",
    "\n",
    "    return rats\n",
    "\n",
    "def obj_mapping(ratings):\n",
    "    \"\"\" Read in rating data into get mapper\n",
    "\n",
    "    :param rats:\n",
    "    :return:\n",
    "    \"\"\"\n",
    "    def obj2ix(obj):\n",
    "        obj = sorted(list(set(obj)), key=lambda x: int(x))\n",
    "        ix = list(range(len(obj)))\n",
    "        return dict(zip(obj, ix)), dict(zip(ix, obj))\n",
    "\n",
    "    users, items, _ = zip(*ratings)\n",
    "    user2ix, ix2user = obj2ix(users)\n",
    "    item2ix, ix2item = obj2ix(items)\n",
    "\n",
    "    return user2ix, ix2user, item2ix, ix2item\n",
    "\n",
    "rats = file_reader_movie_lens_rating(path='./data/ml-small/ratings.csv', sep=',')\n",
    "# rats = file_reader_movie_lens_rating(path='./data/ml-1m/ratings.dat', sep='::')\n",
    "\n",
    "user2ix, ix2user, item2ix, ix2item = obj_mapping(rats)\n",
    "\n",
    "num_user = len(user2ix.keys())\n",
    "num_item = len(item2ix.keys())\n",
    "\n",
    "print(f'Users: {num_user}, Items: {num_item}. Sparsity: {1-len(rats)/num_user/num_item}')"
   ]
  },
  {
   "cell_type": "code",
   "execution_count": 2,
   "outputs": [
    {
     "name": "stdout",
     "output_type": "stream",
     "text": [
      "User reduced from 610 to 607\n"
     ]
    }
   ],
   "source": [
    "def rating_train_test_parser(ratings, perc=0.2, test_filter=True):\n",
    "    \"\"\" parse rating into training and testing set\n",
    "\n",
    "    :param ratings: list\n",
    "        A list of triplet denoting users' rating records on movies\n",
    "\n",
    "    :param perc: float\n",
    "        The percentage that should is divided into testing set\n",
    "\n",
    "    :param test_filter: bool\n",
    "        If we remove the rating record from testing set if the rating is smaller than 3\n",
    "\n",
    "    :return rat_train_dict, rat_test_dict: dict\n",
    "         A dictionary of users rating on items.\n",
    "         {userix: {movieix: rating, ...}, ...}\n",
    "    \"\"\"\n",
    "    sep_counter = int(1/perc)\n",
    "    rat_train_dict = dict()\n",
    "    rat_test_dict = dict()\n",
    "    for ix, rat in enumerate(ratings):\n",
    "        u, i, r = rat\n",
    "        uix = user2ix[u]\n",
    "        iix = item2ix[i]\n",
    "        r = float(r)\n",
    "        if ix % sep_counter == 0:\n",
    "            # skip the record if its rating is lower than 3\n",
    "            if test_filter and r<3:\n",
    "                continue\n",
    "            if uix not in rat_test_dict:\n",
    "                rat_test_dict[uix] = {}\n",
    "            rat_test_dict[uix][iix] = r\n",
    "        else:\n",
    "            if uix not in rat_train_dict:\n",
    "                rat_train_dict[uix] = {}\n",
    "            rat_train_dict[uix][iix] = r\n",
    "\n",
    "    users_of_interest = list(rat_test_dict.keys())\n",
    "    ratings_of_interest = [rat_train_dict[user] for user in users_of_interest]\n",
    "    rat_train_dict = dict(zip(users_of_interest, ratings_of_interest))\n",
    "\n",
    "    return rat_train_dict, rat_test_dict\n",
    "\n",
    "rat_train_dict, rat_test_dict = rating_train_test_parser(rats)\n",
    "\n",
    "print(f'User reduced from {len(user2ix.keys())} to {len(rat_train_dict.keys())}')"
   ],
   "metadata": {
    "collapsed": false
   }
  },
  {
   "cell_type": "code",
   "execution_count": 3,
   "outputs": [],
   "source": [
    "def pairwise_loader_even_prob(training_dict, items, user_size, pos_size=1, neg_size=1, batch_size=128):\n",
    "    from random import choices, choice\n",
    "    from torch.utils.data import DataLoader\n",
    "\n",
    "    all_item_set = set(items.keys())\n",
    "\n",
    "    train_data = []\n",
    "    for _ in range(user_size):\n",
    "        user = choice(list(training_dict.keys()))\n",
    "        pos_cands = list(training_dict[user].keys())\n",
    "        pos_items = choices(pos_cands, k=pos_size)\n",
    "        # Using Negative Sampling\n",
    "        if neg_size!=0:\n",
    "            neg_cands = list(all_item_set-set(pos_items))\n",
    "            neg_set_size = len(pos_items)*neg_size\n",
    "            neg_items = choices(neg_cands, k=neg_set_size)\n",
    "            pos_items *= neg_size\n",
    "            target_user = [user] * neg_size * len(pos_items)\n",
    "            train_data.extend(zip(target_user, pos_items, neg_items))\n",
    "        # Not Using Negative Sampling\n",
    "        else:\n",
    "            target_user = [user] * len(pos_items)\n",
    "            train_data.extend(zip(target_user, pos_items))\n",
    "\n",
    "    train_data_loader = DataLoader(dataset=train_data, batch_size=batch_size, shuffle=True)\n",
    "\n",
    "    return train_data_loader"
   ],
   "metadata": {
    "collapsed": false
   }
  },
  {
   "cell_type": "code",
   "execution_count": 4,
   "outputs": [
    {
     "data": {
      "text/plain": "<torch.utils.data.dataloader.DataLoader at 0x19bab4f66d0>"
     },
     "execution_count": 4,
     "metadata": {},
     "output_type": "execute_result"
    }
   ],
   "source": [
    "def list_loader_even_prob(training_dict, items, user_size, pos_size=1, neg_size=1, batch_size=128):\n",
    "    from random import choices, choice\n",
    "    from torch import tensor\n",
    "    from torch.utils.data import DataLoader\n",
    "\n",
    "    all_item_set = set(items.keys())\n",
    "\n",
    "    train_data = []\n",
    "    for _ in range(user_size):\n",
    "        user = choice(list(training_dict.keys()))\n",
    "        pos_cands = list(training_dict[user].keys())\n",
    "        pos_items = choices(pos_cands, k=pos_size)\n",
    "        # Using Negative Sampling\n",
    "        if neg_size!=0:\n",
    "            neg_cands = list(all_item_set-set(pos_items))\n",
    "            neg_set_size = len(pos_items)*neg_size\n",
    "            neg_items = choices(neg_cands, k=neg_set_size)\n",
    "            neg_items = [neg_items[i:i+neg_size] for i in range(0,len(neg_items), neg_size)]\n",
    "            target_user = [user] * len(pos_items)\n",
    "\n",
    "            # return\n",
    "            train_data.extend(zip(target_user, pos_items, tensor(neg_items)))\n",
    "        # Not Using Negative Sampling\n",
    "        else:\n",
    "            target_user = [user] * len(pos_items)\n",
    "            train_data.extend(zip(target_user, pos_items))\n",
    "\n",
    "    train_data_loader = DataLoader(dataset=train_data, batch_size=batch_size, shuffle=True)\n",
    "\n",
    "    return train_data_loader\n",
    "\n",
    "dl = list_loader_even_prob(\n",
    "    rat_train_dict\n",
    "    , ix2item\n",
    "    , user_size=1\n",
    "    , pos_size=2\n",
    "    , neg_size=4\n",
    ")\n",
    "dl"
   ],
   "metadata": {
    "collapsed": false
   }
  },
  {
   "cell_type": "code",
   "execution_count": 5,
   "outputs": [],
   "source": [
    "# modeling svd\n",
    "import torch\n",
    "import torch.nn as nn\n",
    "import torch.nn.functional as F\n",
    "from torch import tensor\n",
    "\n",
    "class FunkSVD(nn.Module):\n",
    "    \"\"\" Matrix Factorization based method, referring to FunkSVD\n",
    "    \"\"\"\n",
    "    def __init__(self, n_user, n_item, k_dim, negative_sampling:bool):\n",
    "        super(FunkSVD, self).__init__()\n",
    "        self.k_dim=k_dim\n",
    "        self.negative_sampling = negative_sampling # if training with negative sampling\n",
    "        # embeddings of interest\n",
    "        self.embedding_user = nn.Embedding(n_user, k_dim)\n",
    "        self.embedding_item = nn.Embedding(n_item, k_dim)\n",
    "        # init param\n",
    "        self.embedding_user.weight.data.uniform_(0, 1)\n",
    "        self.embedding_item.weight.data.uniform_(0, 1)\n",
    "\n",
    "    def forward(self, user, pos_item, neg_item=None):\n",
    "        pos_rat = (self.embedding_user(user)*self.embedding_item(pos_item)).sum(1)\n",
    "\n",
    "        if not self.negative_sampling:\n",
    "            return -pos_rat\n",
    "\n",
    "        neg_emb = self.embedding_item(neg_item)\n",
    "        user_emb = self.embedding_user(user).view(-1, self.k_dim, 1) # transform shape\n",
    "        neg_rat = -(torch.bmm(neg_emb, user_emb)).view(-1) # use bmm to calcualte score\n",
    "\n",
    "        return torch.cat((pos_rat, neg_rat), 0) # concat positive and negative ratings\n",
    "\n",
    "    def get_user_embedding(self, user):\n",
    "        return self.embedding_user(user).data\n",
    "\n",
    "    def get_item_embedding(self, item):\n",
    "        return self.embedding_item(item).data\n",
    "\n",
    "def MF_loss(preds):\n",
    "    return -F.logsigmoid(preds).sum()"
   ],
   "metadata": {
    "collapsed": false
   }
  },
  {
   "cell_type": "code",
   "execution_count": 6,
   "outputs": [],
   "source": [
    "def train_model(model, ratings, items, n_epochs, opt_fn, user_size, pos_size, neg_size=0, negative_sampling=True, method='list', cuda=True):\n",
    "\n",
    "    import time\n",
    "    from torch import autograd, LongTensor\n",
    "    import numpy as np\n",
    "\n",
    "    assert method in ['list', 'pairwise'], 'Invalid method %s' % method\n",
    "    loader = list_loader_even_prob if method == 'list' else pairwise_loader_even_prob\n",
    "\n",
    "    device = torch.device('cuda' if cuda==True else 'cpu')\n",
    "\n",
    "    if cuda:\n",
    "        model.cuda()\n",
    "\n",
    "    losses = []\n",
    "\n",
    "    t0 = time.time()\n",
    "    for epoch in range(n_epochs):\n",
    "        train_data = loader(\n",
    "            ratings\n",
    "            , items\n",
    "            , user_size=user_size\n",
    "            , pos_size=pos_size\n",
    "            , neg_size=neg_size)\n",
    "\n",
    "        for i, batch in enumerate(train_data):\n",
    "            if not negative_sampling:\n",
    "                user, pos_item = batch\n",
    "            else:\n",
    "                user, pos_item, neg_item = batch\n",
    "\n",
    "            model.zero_grad()\n",
    "\n",
    "            # variablize\n",
    "            user = autograd.Variable(LongTensor(user)).to(device)\n",
    "            pos_item = autograd.Variable(LongTensor(pos_item)).to(device)\n",
    "            if negative_sampling:\n",
    "                neg_item = autograd.Variable(LongTensor(neg_item)).to(device)\n",
    "\n",
    "            preds = model(user=user, pos_item=pos_item)\\\n",
    "                        .mean()\\\n",
    "                if not negative_sampling else \\\n",
    "                    model(user=user, pos_item=pos_item, neg_item=neg_item)\\\n",
    "                        .mean()\n",
    "\n",
    "            loss = MF_loss(preds)\n",
    "\n",
    "            loss.backward()\n",
    "            opt_fn.step()\n",
    "            losses.append(loss.data.to(device).tolist())\n",
    "\n",
    "        if epoch % 10 == 0:\n",
    "            t1=time.time()\n",
    "            print(f'Epoch: {epoch}, Time: {round(t1-t0,2)}, /Average loss {np.mean(losses[-10:]).round(5)}')\n",
    "            t0=time.time()\n",
    "\n",
    "    return model, losses"
   ],
   "metadata": {
    "collapsed": false
   }
  },
  {
   "cell_type": "code",
   "execution_count": 35,
   "outputs": [
    {
     "name": "stdout",
     "output_type": "stream",
     "text": [
      "Epoch: 0, Time: 0.04, /Average loss 8.11447\n",
      "Epoch: 10, Time: 0.36, /Average loss 7.99066\n",
      "Epoch: 20, Time: 0.43, /Average loss 7.98632\n",
      "Epoch: 30, Time: 0.41, /Average loss 7.91744\n",
      "Epoch: 40, Time: 0.39, /Average loss 7.92005\n",
      "Epoch: 50, Time: 0.47, /Average loss 7.85637\n",
      "Epoch: 60, Time: 0.36, /Average loss 7.92803\n",
      "Epoch: 70, Time: 0.35, /Average loss 7.81178\n",
      "Epoch: 80, Time: 0.34, /Average loss 7.79714\n",
      "Epoch: 90, Time: 0.37, /Average loss 7.73227\n",
      "Epoch: 100, Time: 0.37, /Average loss 7.68872\n",
      "Epoch: 110, Time: 0.44, /Average loss 7.62631\n",
      "Epoch: 120, Time: 0.41, /Average loss 7.69523\n",
      "Epoch: 130, Time: 0.43, /Average loss 7.69496\n",
      "Epoch: 140, Time: 0.89, /Average loss 7.6718\n",
      "Epoch: 150, Time: 0.47, /Average loss 7.66867\n",
      "Epoch: 160, Time: 1.29, /Average loss 7.56543\n",
      "Epoch: 170, Time: 0.49, /Average loss 7.52695\n",
      "Epoch: 180, Time: 0.45, /Average loss 7.47177\n",
      "Epoch: 190, Time: 0.38, /Average loss 7.46783\n",
      "Epoch: 200, Time: 0.37, /Average loss 7.39343\n",
      "Epoch: 210, Time: 0.4, /Average loss 7.53881\n",
      "Epoch: 220, Time: 0.38, /Average loss 7.39599\n",
      "Epoch: 230, Time: 0.37, /Average loss 7.39155\n",
      "Epoch: 240, Time: 0.42, /Average loss 7.34586\n",
      "Epoch: 250, Time: 0.39, /Average loss 7.28057\n",
      "Epoch: 260, Time: 0.33, /Average loss 7.26391\n",
      "Epoch: 270, Time: 0.34, /Average loss 7.26244\n",
      "Epoch: 280, Time: 0.38, /Average loss 7.26433\n",
      "Epoch: 290, Time: 0.36, /Average loss 7.22736\n",
      "Epoch: 300, Time: 0.41, /Average loss 7.2068\n",
      "Epoch: 310, Time: 0.37, /Average loss 7.19089\n",
      "Epoch: 320, Time: 0.45, /Average loss 7.13715\n",
      "Epoch: 330, Time: 0.6, /Average loss 7.03754\n",
      "Epoch: 340, Time: 0.49, /Average loss 7.01834\n",
      "Epoch: 350, Time: 0.77, /Average loss 7.07331\n",
      "Epoch: 360, Time: 0.98, /Average loss 6.95883\n",
      "Epoch: 370, Time: 0.38, /Average loss 6.9928\n",
      "Epoch: 380, Time: 0.35, /Average loss 7.03211\n",
      "Epoch: 390, Time: 0.36, /Average loss 6.99645\n",
      "Epoch: 400, Time: 0.46, /Average loss 6.94744\n",
      "Epoch: 410, Time: 0.36, /Average loss 6.96085\n",
      "Epoch: 420, Time: 0.45, /Average loss 6.86807\n",
      "Epoch: 430, Time: 0.38, /Average loss 6.85831\n",
      "Epoch: 440, Time: 0.37, /Average loss 6.87368\n",
      "Epoch: 450, Time: 0.33, /Average loss 6.81579\n",
      "Epoch: 460, Time: 0.38, /Average loss 6.74484\n",
      "Epoch: 470, Time: 0.4, /Average loss 6.638\n",
      "Epoch: 480, Time: 0.33, /Average loss 6.7468\n",
      "Epoch: 490, Time: 0.34, /Average loss 6.73174\n",
      "Epoch: 500, Time: 0.34, /Average loss 6.73774\n",
      "Epoch: 510, Time: 0.34, /Average loss 6.65647\n"
     ]
    }
   ],
   "source": [
    "import torch.optim as optim\n",
    "\n",
    "cuda = torch.cuda.is_available()\n",
    "n_users = len(user2ix)\n",
    "n_items = len(item2ix)\n",
    "embed_size = 32\n",
    "\n",
    "num_epochs = 512 # Max number of training epochs\n",
    "lr = 0.001 # Set the learning rate\n",
    "reg = 0.01\n",
    "svd_raw = FunkSVD(n_users, n_items, embed_size, negative_sampling=False)\n",
    "opt_fn = optim.SGD(svd_raw.parameters(), lr=lr, weight_decay=reg, momentum=0.01) # Select an optimizer\n",
    "\n",
    "svd_raw, losses_r = train_model(\n",
    "    svd_raw\n",
    "    , ratings = rat_train_dict\n",
    "    , items = ix2item\n",
    "    , n_epochs = num_epochs\n",
    "    , opt_fn = opt_fn\n",
    "    , user_size = 512\n",
    "    , pos_size = 4\n",
    "    , negative_sampling=False\n",
    "    , cuda=True)"
   ],
   "metadata": {
    "collapsed": false
   }
  },
  {
   "cell_type": "code",
   "execution_count": 36,
   "outputs": [
    {
     "name": "stdout",
     "output_type": "stream",
     "text": [
      "Epoch: 0, Time: 0.16, /Average loss 7.97259\n",
      "Epoch: 10, Time: 1.78, /Average loss 8.02651\n",
      "Epoch: 20, Time: 1.74, /Average loss 7.85711\n",
      "Epoch: 30, Time: 1.64, /Average loss 7.90319\n",
      "Epoch: 40, Time: 1.83, /Average loss 7.86886\n",
      "Epoch: 50, Time: 2.06, /Average loss 7.76481\n",
      "Epoch: 60, Time: 1.81, /Average loss 7.8503\n",
      "Epoch: 70, Time: 1.6, /Average loss 7.73198\n",
      "Epoch: 80, Time: 1.63, /Average loss 7.79281\n",
      "Epoch: 90, Time: 1.5, /Average loss 7.7726\n",
      "Epoch: 100, Time: 1.82, /Average loss 7.64244\n",
      "Epoch: 110, Time: 1.85, /Average loss 7.6068\n",
      "Epoch: 120, Time: 1.52, /Average loss 7.68963\n",
      "Epoch: 130, Time: 1.5, /Average loss 7.55816\n",
      "Epoch: 140, Time: 1.59, /Average loss 7.66498\n",
      "Epoch: 150, Time: 1.9, /Average loss 7.53237\n",
      "Epoch: 160, Time: 1.67, /Average loss 7.47308\n",
      "Epoch: 170, Time: 1.57, /Average loss 7.44137\n",
      "Epoch: 180, Time: 1.49, /Average loss 7.4169\n",
      "Epoch: 190, Time: 1.52, /Average loss 7.42993\n",
      "Epoch: 200, Time: 2.06, /Average loss 7.4222\n",
      "Epoch: 210, Time: 1.63, /Average loss 7.35579\n",
      "Epoch: 220, Time: 1.53, /Average loss 7.31159\n",
      "Epoch: 230, Time: 1.62, /Average loss 7.24413\n",
      "Epoch: 240, Time: 1.63, /Average loss 7.29378\n",
      "Epoch: 250, Time: 1.94, /Average loss 7.25217\n",
      "Epoch: 260, Time: 1.62, /Average loss 7.20447\n",
      "Epoch: 270, Time: 1.51, /Average loss 7.17219\n",
      "Epoch: 280, Time: 1.52, /Average loss 7.19717\n",
      "Epoch: 290, Time: 1.7, /Average loss 7.12634\n",
      "Epoch: 300, Time: 1.96, /Average loss 7.14393\n",
      "Epoch: 310, Time: 1.51, /Average loss 7.05317\n",
      "Epoch: 320, Time: 1.6, /Average loss 7.05778\n",
      "Epoch: 330, Time: 1.5, /Average loss 7.0758\n",
      "Epoch: 340, Time: 1.74, /Average loss 6.98744\n",
      "Epoch: 350, Time: 1.7, /Average loss 6.95951\n",
      "Epoch: 360, Time: 1.75, /Average loss 6.95278\n",
      "Epoch: 370, Time: 1.48, /Average loss 6.97974\n",
      "Epoch: 380, Time: 2.23, /Average loss 6.97964\n",
      "Epoch: 390, Time: 2.44, /Average loss 6.89728\n",
      "Epoch: 400, Time: 1.76, /Average loss 6.85171\n",
      "Epoch: 410, Time: 1.81, /Average loss 6.86215\n",
      "Epoch: 420, Time: 1.58, /Average loss 6.86039\n",
      "Epoch: 430, Time: 2.01, /Average loss 6.79336\n",
      "Epoch: 440, Time: 1.79, /Average loss 6.79335\n",
      "Epoch: 450, Time: 1.56, /Average loss 6.85995\n",
      "Epoch: 460, Time: 1.92, /Average loss 6.69762\n",
      "Epoch: 470, Time: 1.74, /Average loss 6.69827\n",
      "Epoch: 480, Time: 1.92, /Average loss 6.62511\n",
      "Epoch: 490, Time: 1.74, /Average loss 6.59935\n",
      "Epoch: 500, Time: 1.59, /Average loss 6.58551\n",
      "Epoch: 510, Time: 2.94, /Average loss 6.63238\n"
     ]
    }
   ],
   "source": [
    "import torch.optim as optim\n",
    "\n",
    "cuda = torch.cuda.is_available()\n",
    "n_users = len(user2ix)\n",
    "n_items = len(item2ix)\n",
    "embed_size = 32\n",
    "\n",
    "num_epochs = 512 # Max number of training epochs\n",
    "lr = 0.001 # Set the learning rate\n",
    "reg = 0.01\n",
    "svd_p = FunkSVD(n_users, n_items, embed_size, negative_sampling=False)\n",
    "opt_fn = optim.SGD(svd_p.parameters(), lr=lr, weight_decay=reg, momentum=0.01) # Select an optimizer\n",
    "\n",
    "svd_p, losses_p = train_model(\n",
    "    svd_p\n",
    "    , ratings = rat_train_dict\n",
    "    , items = ix2item\n",
    "    , n_epochs = num_epochs\n",
    "    , opt_fn = opt_fn\n",
    "    , user_size = 512\n",
    "    , pos_size = 4\n",
    "    , neg_size = 4\n",
    "    , negative_sampling=True\n",
    "    , cuda=True)"
   ],
   "metadata": {
    "collapsed": false
   }
  },
  {
   "cell_type": "code",
   "execution_count": 9,
   "outputs": [
    {
     "data": {
      "text/plain": "[<matplotlib.lines.Line2D at 0x19c031c7970>]"
     },
     "execution_count": 9,
     "metadata": {},
     "output_type": "execute_result"
    },
    {
     "data": {
      "text/plain": "<Figure size 432x288 with 1 Axes>",
      "image/png": "[encoded data removed]"
     },
     "metadata": {
      "needs_background": "light"
     },
     "output_type": "display_data"
    }
   ],
   "source": [
    "import matplotlib.pyplot as plt\n",
    "\n",
    "plt.plot(list(range(len(losses_p))), losses_p)"
   ],
   "metadata": {
    "collapsed": false
   }
  },
  {
   "cell_type": "code",
   "execution_count": 37,
   "outputs": [
    {
     "name": "stdout",
     "output_type": "stream",
     "text": [
      "Epoch: 0, Time: 0.27, /Average loss 4.77803\n",
      "Epoch: 10, Time: 1.9, /Average loss 4.62534\n",
      "Epoch: 20, Time: 1.6, /Average loss 4.49823\n",
      "Epoch: 30, Time: 1.65, /Average loss 4.32028\n",
      "Epoch: 40, Time: 1.82, /Average loss 4.14279\n",
      "Epoch: 50, Time: 1.82, /Average loss 4.05756\n",
      "Epoch: 60, Time: 1.67, /Average loss 3.93076\n",
      "Epoch: 70, Time: 1.58, /Average loss 3.82722\n",
      "Epoch: 80, Time: 1.76, /Average loss 3.66389\n",
      "Epoch: 90, Time: 2.12, /Average loss 3.53765\n",
      "Epoch: 100, Time: 2.3, /Average loss 3.40994\n",
      "Epoch: 110, Time: 1.78, /Average loss 3.32647\n",
      "Epoch: 120, Time: 1.72, /Average loss 3.19875\n",
      "Epoch: 130, Time: 1.72, /Average loss 3.12291\n",
      "Epoch: 140, Time: 2.03, /Average loss 2.98267\n",
      "Epoch: 150, Time: 2.23, /Average loss 2.94595\n",
      "Epoch: 160, Time: 2.08, /Average loss 2.83065\n",
      "Epoch: 170, Time: 1.78, /Average loss 2.7457\n",
      "Epoch: 180, Time: 1.85, /Average loss 2.65016\n",
      "Epoch: 190, Time: 1.66, /Average loss 2.57346\n",
      "Epoch: 200, Time: 1.78, /Average loss 2.49464\n",
      "Epoch: 210, Time: 1.59, /Average loss 2.42793\n",
      "Epoch: 220, Time: 1.86, /Average loss 2.3555\n",
      "Epoch: 230, Time: 1.87, /Average loss 2.2894\n",
      "Epoch: 240, Time: 4.29, /Average loss 2.21963\n",
      "Epoch: 250, Time: 28.53, /Average loss 2.1589\n",
      "Epoch: 260, Time: 26.62, /Average loss 2.12417\n",
      "Epoch: 270, Time: 8.77, /Average loss 2.05023\n",
      "Epoch: 280, Time: 1.72, /Average loss 1.98242\n",
      "Epoch: 290, Time: 1.62, /Average loss 1.92201\n",
      "Epoch: 300, Time: 1.64, /Average loss 1.88032\n",
      "Epoch: 310, Time: 1.89, /Average loss 1.85665\n",
      "Epoch: 320, Time: 1.81, /Average loss 1.79147\n",
      "Epoch: 330, Time: 1.66, /Average loss 1.73888\n",
      "Epoch: 340, Time: 1.56, /Average loss 1.70047\n",
      "Epoch: 350, Time: 1.91, /Average loss 1.6765\n",
      "Epoch: 360, Time: 1.86, /Average loss 1.63607\n",
      "Epoch: 370, Time: 1.76, /Average loss 1.58574\n",
      "Epoch: 380, Time: 1.67, /Average loss 1.56039\n",
      "Epoch: 390, Time: 1.57, /Average loss 1.52383\n",
      "Epoch: 400, Time: 1.62, /Average loss 1.48507\n",
      "Epoch: 410, Time: 2.16, /Average loss 1.45214\n",
      "Epoch: 420, Time: 1.63, /Average loss 1.42023\n",
      "Epoch: 430, Time: 1.58, /Average loss 1.40049\n",
      "Epoch: 440, Time: 1.69, /Average loss 1.36416\n",
      "Epoch: 450, Time: 2.16, /Average loss 1.34045\n",
      "Epoch: 460, Time: 2.11, /Average loss 1.31173\n",
      "Epoch: 470, Time: 1.84, /Average loss 1.29115\n",
      "Epoch: 480, Time: 1.84, /Average loss 1.27108\n",
      "Epoch: 490, Time: 2.02, /Average loss 1.24385\n",
      "Epoch: 500, Time: 1.89, /Average loss 1.22236\n",
      "Epoch: 510, Time: 1.94, /Average loss 1.19711\n"
     ]
    }
   ],
   "source": [
    "from torch import LongTensor\n",
    "import torch.autograd as autograd\n",
    "import torch.optim as optim\n",
    "import numpy as np\n",
    "import time\n",
    "\n",
    "cuda = torch.cuda.is_available()\n",
    "n_users = len(user2ix)\n",
    "n_items = len(item2ix)\n",
    "embed_size = 32\n",
    "\n",
    "num_epochs = 512 # Max number of training epochs\n",
    "lr = 0.01 # Set the learning rate\n",
    "reg = 0.01\n",
    "svd_l = FunkSVD(n_users, n_items, embed_size, negative_sampling=True)\n",
    "opt_fn = optim.SGD(svd_l.parameters(), lr=lr, weight_decay=reg, momentum=0.01) # Select an optimizer\n",
    "\n",
    "svd_l, losses_l = train_model(\n",
    "    svd_l\n",
    "    , ratings = rat_train_dict\n",
    "    , items = ix2item\n",
    "    , n_epochs = num_epochs\n",
    "    , opt_fn = opt_fn\n",
    "    , user_size = 512\n",
    "    , pos_size = 4\n",
    "    , neg_size = 4\n",
    "    , negative_sampling=True\n",
    "    , method = 'list'\n",
    "    , cuda = True\n",
    ")"
   ],
   "metadata": {
    "collapsed": false
   }
  },
  {
   "cell_type": "code",
   "execution_count": 38,
   "outputs": [
    {
     "data": {
      "text/plain": "[<matplotlib.lines.Line2D at 0x19c23b13100>]"
     },
     "execution_count": 38,
     "metadata": {},
     "output_type": "execute_result"
    },
    {
     "data": {
      "text/plain": "<Figure size 432x288 with 1 Axes>",
      "image/png": "[encoded data removed]"
     },
     "metadata": {
      "needs_background": "light"
     },
     "output_type": "display_data"
    }
   ],
   "source": [
    "import matplotlib.pyplot as plt\n",
    "\n",
    "plt.plot(list(range(len(losses_l))), losses_l)"
   ],
   "metadata": {
    "collapsed": false
   }
  },
  {
   "cell_type": "code",
   "execution_count": 39,
   "outputs": [],
   "source": [
    "svd_raw = svd_raw.to('cpu')\n",
    "svd_p = svd_p.to('cpu')\n",
    "svd_l = svd_l.to('cpu')"
   ],
   "metadata": {
    "collapsed": false
   }
  },
  {
   "cell_type": "code",
   "execution_count": 13,
   "outputs": [
    {
     "ename": "NameError",
     "evalue": "name 'testing_candidate' is not defined",
     "output_type": "error",
     "traceback": [
      "\u001B[1;31m---------------------------------------------------------------------------\u001B[0m",
      "\u001B[1;31mNameError\u001B[0m                                 Traceback (most recent call last)",
      "Input \u001B[1;32mIn [13]\u001B[0m, in \u001B[0;36m<cell line: 2>\u001B[1;34m()\u001B[0m\n\u001B[0;32m      1\u001B[0m test_sizes \u001B[38;5;241m=\u001B[39m []\n\u001B[1;32m----> 2\u001B[0m \u001B[38;5;28;01mfor\u001B[39;00m user \u001B[38;5;129;01min\u001B[39;00m \u001B[43mtesting_candidate\u001B[49m:\n\u001B[0;32m      3\u001B[0m     test_sizes\u001B[38;5;241m.\u001B[39mappend(\u001B[38;5;28mlen\u001B[39m(testing_candidate[user]))\n",
      "\u001B[1;31mNameError\u001B[0m: name 'testing_candidate' is not defined"
     ]
    }
   ],
   "source": [
    "test_sizes = []\n",
    "for user in testing_candidate:\n",
    "    test_sizes.append(len(testing_candidate[user]))"
   ],
   "metadata": {
    "collapsed": false
   }
  },
  {
   "cell_type": "code",
   "execution_count": 14,
   "outputs": [
    {
     "data": {
      "text/plain": "<Figure size 432x288 with 1 Axes>",
      "image/png": "[encoded data removed]"
     },
     "metadata": {
      "needs_background": "light"
     },
     "output_type": "display_data"
    }
   ],
   "source": [
    "plt.hist(test_sizes)\n",
    "\n",
    "plt.show()"
   ],
   "metadata": {
    "collapsed": false
   }
  },
  {
   "cell_type": "markdown",
   "source": [
    "测试方法为：在集合【去除训练item的物品集】中预测用户对商品的评分"
   ],
   "metadata": {
    "collapsed": false
   }
  },
  {
   "cell_type": "code",
   "execution_count": 40,
   "outputs": [],
   "source": [
    "def generate_testing_candidates(rating_train, items):\n",
    "    items_set = set(list(items.keys()))\n",
    "    testing_cand = {}\n",
    "    for user in rating_train:\n",
    "        testing_cand[user] = list(items_set-set(rating_train[user].keys()))\n",
    "    return testing_cand\n",
    "\n",
    "testing_candidates = generate_testing_candidates(rat_train_dict, ix2item)"
   ],
   "metadata": {
    "collapsed": false
   }
  },
  {
   "cell_type": "code",
   "execution_count": 41,
   "outputs": [],
   "source": [
    "def predict_recommendation(model, test_cands):\n",
    "    from torch import tensor\n",
    "\n",
    "    predict = {}\n",
    "    for user in test_cands:\n",
    "        items = test_cands[user]\n",
    "        # dot product as estimation of rating\n",
    "        pred = model.embedding_user(tensor([user])) \\\n",
    "               @ model.embedding_item(tensor(items)).T\n",
    "        pred_ix = torch.argsort(-pred)\n",
    "        predict[user] = [items[ix] for ix in pred_ix[0]]\n",
    "\n",
    "    return predict\n",
    "\n",
    "pred_dict_raw = predict_recommendation(svd_raw, testing_candidates)\n",
    "pred_dict_p = predict_recommendation(svd_p, testing_candidates)\n",
    "pred_dict_l = predict_recommendation(svd_l, testing_candidates)\n"
   ],
   "metadata": {
    "collapsed": false
   }
  },
  {
   "cell_type": "code",
   "execution_count": 52,
   "outputs": [
    {
     "data": {
      "text/plain": "<Figure size 432x288 with 1 Axes>",
      "image/png": "[encoded data removed]"
     },
     "metadata": {
      "needs_background": "light"
     },
     "output_type": "display_data"
    }
   ],
   "source": [
    "\"\"\"\n",
    "Metric: https://towardsdatascience.com/ranking-evaluation-metrics-for-recommender-systems-263d0a66ef54\n",
    "\"\"\"\n",
    "\n",
    "def _f1(k, test, predict):\n",
    "    \"\"\" Compute f1 score for each user\n",
    "\n",
    "    :param k: int\n",
    "    :param test: list of int\n",
    "    :param predict: list of int\n",
    "    :return tp_value: float\n",
    "    \"\"\"\n",
    "    max_eval_size = min(k, len(predict)) # in case user has little candidate item\n",
    "    tp = 0\n",
    "    for i in range(max_eval_size):\n",
    "        if predict[i] in test:\n",
    "            tp += 1\n",
    "    return 2*tp/(max_eval_size + len(test))\n",
    "\n",
    "\n",
    "def f1_ak_k(k, test_dict, pred_dict):\n",
    "    res = []\n",
    "    for user in test_dict:\n",
    "        res.append(_f1(k, test_dict[user], pred_dict[user]))\n",
    "    return sum(res)/len(test_dict)\n",
    "\n",
    "k = 20\n",
    "f1_raw = [f1_ak_k(ki, rat_test_dict, pred_dict_raw) for ki in range(k)]\n",
    "f1_p = [f1_ak_k(ki, rat_test_dict, pred_dict_p) for ki in range(k)]\n",
    "f1_l = [f1_ak_k(ki, rat_test_dict, pred_dict_l) for ki in range(k)]\n",
    "\n",
    "plt.plot(list(range(k)), f1_raw, label='raw')\n",
    "plt.plot(list(range(k)), f1_p, label='pairwise')\n",
    "plt.plot(list(range(k)), f1_l, label='listwise')\n",
    "\n",
    "plt.legend()\n",
    "\n",
    "plt.show()"
   ],
   "metadata": {
    "collapsed": false
   }
  },
  {
   "cell_type": "code",
   "execution_count": 67,
   "outputs": [
    {
     "data": {
      "text/plain": "<Figure size 432x288 with 1 Axes>",
      "image/png": "[encoded data removed]"
     },
     "metadata": {
      "needs_background": "light"
     },
     "output_type": "display_data"
    }
   ],
   "source": [
    "def _hr(k, test, pred):\n",
    "    if isinstance(pred, dict):\n",
    "        pred = list(pred.keys())\n",
    "\n",
    "    if k - len(set(pred[:k])-set(test)) > 0:\n",
    "        return 1\n",
    "    else:\n",
    "        return 0\n",
    "\n",
    "def hit_rate_at_k(k, test_dict, pred_dict):\n",
    "    res = []\n",
    "    for user in test_dict:\n",
    "        res.append(_hr(k, list(test_dict[user]), pred_dict[user]))\n",
    "    return sum(res)/len(test_dict)\n",
    "\n",
    "\n",
    "k = 20\n",
    "hr_raw = [hit_rate_at_k(ki, rat_test_dict, pred_dict_raw) for ki in range(k)]\n",
    "hr_p = [hit_rate_at_k(ki, rat_test_dict, pred_dict_p) for ki in range(k)]\n",
    "hr_l = [hit_rate_at_k(ki, rat_test_dict, pred_dict_l) for ki in range(k)]\n",
    "\n",
    "plt.plot(list(range(k)), hr_raw, label='raw')\n",
    "plt.plot(list(range(k)), hr_p, label='pairwise')\n",
    "plt.plot(list(range(k)), hr_l, label='listwise')\n",
    "\n",
    "plt.legend()\n",
    "\n",
    "plt.show()"
   ],
   "metadata": {
    "collapsed": false
   }
  },
  {
   "cell_type": "code",
   "execution_count": 63,
   "outputs": [
    {
     "data": {
      "text/plain": "[1919, 5312]"
     },
     "execution_count": 63,
     "metadata": {},
     "output_type": "execute_result"
    }
   ],
   "source": [
    "pred_dict_raw[0][:2]"
   ],
   "metadata": {
    "collapsed": false
   }
  },
  {
   "cell_type": "code",
   "execution_count": 58,
   "outputs": [
    {
     "data": {
      "text/plain": "<Figure size 432x288 with 1 Axes>",
      "image/png": "[encoded data removed]"
     },
     "metadata": {
      "needs_background": "light"
     },
     "output_type": "display_data"
    }
   ],
   "source": [
    "def _map(k, test, pred):\n",
    "    if isinstance(pred, dict):\n",
    "        pred = list(pred.keys())\n",
    "\n",
    "    if not k:\n",
    "        return 0\n",
    "\n",
    "    max_eval_size = min(k, len(pred))\n",
    "    x, s = 0, 0\n",
    "    for i in range(max_eval_size):\n",
    "        if pred[i] in test:\n",
    "            x += 1\n",
    "            s += x/(i+1)\n",
    "\n",
    "    return s/max_eval_size # average precision\n",
    "\n",
    "def map_at_k(k, test_dict, pred_dict):\n",
    "    res = []\n",
    "    for user in test_dict:\n",
    "        res.append(_map(k, list(test_dict[user]), pred_dict[user]))\n",
    "    # mean of average precision\n",
    "    return sum(res)/len(test_dict)\n",
    "\n",
    "k = 20\n",
    "map_raw = [map_at_k(ki, rat_test_dict, pred_dict_raw) for ki in range(k)]\n",
    "map_p = [map_at_k(ki, rat_test_dict, pred_dict_p) for ki in range(k)]\n",
    "map_l = [map_at_k(ki, rat_test_dict, pred_dict_l) for ki in range(k)]\n",
    "\n",
    "plt.plot(list(range(k)), map_raw, label='raw')\n",
    "plt.plot(list(range(k)), map_p, label='pairwise')\n",
    "plt.plot(list(range(k)), map_l, label='listwise')\n",
    "\n",
    "plt.legend()\n",
    "\n",
    "plt.show()"
   ],
   "metadata": {
    "collapsed": false
   }
  },
  {
   "cell_type": "code",
   "execution_count": 68,
   "outputs": [
    {
     "data": {
      "text/plain": "<Figure size 432x288 with 1 Axes>",
      "image/png": "[encoded data removed]"
     },
     "metadata": {
      "needs_background": "light"
     },
     "output_type": "display_data"
    }
   ],
   "source": [
    "def _dcg(score):\n",
    "    if len(score)==0:\n",
    "        return 0\n",
    "\n",
    "    from math import log\n",
    "    dcg = 0\n",
    "    for ix, score_i in enumerate(score):\n",
    "        if score_i != 0:\n",
    "            dcg += score_i / log(ix+2, 2)\n",
    "    return dcg\n",
    "\n",
    "def _ndcg(k, test, pred, use_score):\n",
    "    if isinstance(pred, dict) and use_score:\n",
    "        score = [test[pred_i] if pred_i in test else 0\n",
    "                 for pred_i in pred[:k]]\n",
    "    else:\n",
    "        score = [1 if pred_i in test else 0\n",
    "                 for pred_i in pred[:k]]\n",
    "\n",
    "    return _dcg(score)\n",
    "\n",
    "def ndcg(k, test, predict, use_score=True):\n",
    "    res = []\n",
    "    for user in test:\n",
    "        res.append(_ndcg(k, test[user], predict[user], use_score))\n",
    "    return sum(res) / len(test)\n",
    "\n",
    "k = 20\n",
    "ndcg_raw = [ndcg(ki, rat_test_dict, pred_dict_raw) for ki in range(k)]\n",
    "ndcg_p = [ndcg(ki, rat_test_dict, pred_dict_p) for ki in range(k)]\n",
    "ndcg_l = [ndcg(ki, rat_test_dict, pred_dict_l) for ki in range(k)]\n",
    "\n",
    "plt.plot(list(range(k)), ndcg_raw, label='raw')\n",
    "plt.plot(list(range(k)), ndcg_p, label='pairwise')\n",
    "plt.plot(list(range(k)), ndcg_l, label='listwise')\n",
    "\n",
    "plt.legend()\n",
    "\n",
    "plt.show()"
   ],
   "metadata": {
    "collapsed": false
   }
  },
  {
   "cell_type": "code",
   "execution_count": null,
   "outputs": [],
   "source": [],
   "metadata": {
    "collapsed": false
   }
  }
 ],
 "metadata": {
  "kernelspec": {
   "display_name": "Python 3.8.10 64-bit",
   "language": "python",
   "name": "python3"
  },
  "language_info": {
   "codemirror_mode": {
    "name": "ipython",
    "version": 3
   },
   "file_extension": ".py",
   "mimetype": "text/x-python",
   "name": "python",
   "nbconvert_exporter": "python",
   "pygments_lexer": "ipython3",
   "version": "3.8.10"
  },
  "orig_nbformat": 4,
  "vscode": {
   "interpreter": {
    "hash": "00499476119a38fdac92034240d7ef2fa4f5985bf02d398f0fd3693908f0286e"
   }
  }
 },
 "nbformat": 4,
 "nbformat_minor": 2
}
