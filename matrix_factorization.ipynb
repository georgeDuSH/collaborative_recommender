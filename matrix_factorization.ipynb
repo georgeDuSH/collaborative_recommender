{
 "cells": [
  {
   "cell_type": "code",
   "execution_count": 1,
   "metadata": {},
   "outputs": [
    {
     "name": "stdout",
     "output_type": "stream",
     "text": [
      "Users: 610, Items: 9724. Sparsity: 0.9830003169443864\n"
     ]
    }
   ],
   "source": [
    "import random\n",
    "\n",
    "def file_reader_movie_lens_rating(path='', sep='::'):\n",
    "    \"\"\" read in rating dataset from movie lens\n",
    "\n",
    "    :param path:\n",
    "    :param sep:\n",
    "    :return:\n",
    "    \"\"\"\n",
    "    f = open(file=path, mode='r')\n",
    "    if sep==',':\n",
    "        f.readline() # skip header\n",
    "    rats = []\n",
    "    f_line = f.readline()\n",
    "    while True:\n",
    "        if not f_line:\n",
    "            break\n",
    "        # parse\n",
    "        user, item, rating, timestamp = f_line.strip().split(sep)\n",
    "        rats.append([user, item, rating])\n",
    "\n",
    "        f_line = f.readline()\n",
    "\n",
    "    return rats\n",
    "\n",
    "def obj_mapping(ratings):\n",
    "    \"\"\" Read in rating data into get mapper\n",
    "\n",
    "    :param rats:\n",
    "    :return:\n",
    "    \"\"\"\n",
    "    def obj2ix(obj):\n",
    "        obj = sorted(list(set(obj)), key=lambda x: int(x))\n",
    "        ix = list(range(len(obj)))\n",
    "        return dict(zip(obj, ix)), dict(zip(ix, obj))\n",
    "\n",
    "    users, items, _ = zip(*ratings)\n",
    "    user2ix, ix2user = obj2ix(users)\n",
    "    item2ix, ix2item = obj2ix(items)\n",
    "\n",
    "    return user2ix, ix2user, item2ix, ix2item\n",
    "\n",
    "rats = file_reader_movie_lens_rating(path='./data/ml-small/ratings.csv', sep=',')\n",
    "# rats = file_reader_movie_lens_rating(path='./data/ml-1m/ratings.dat', sep='::')\n",
    "\n",
    "user2ix, ix2user, item2ix, ix2item = obj_mapping(rats)\n",
    "\n",
    "num_user = len(user2ix.keys())\n",
    "num_item = len(item2ix.keys())\n",
    "\n",
    "print(f'Users: {num_user}, Items: {num_item}. Sparsity: {1-len(rats)/num_user/num_item}')"
   ]
  },
  {
   "cell_type": "code",
   "execution_count": 2,
   "outputs": [
    {
     "name": "stdout",
     "output_type": "stream",
     "text": [
      "User reduced from 610 to 607\n"
     ]
    }
   ],
   "source": [
    "def rating_train_test_parser(ratings, perc=0.2, test_filter=True):\n",
    "    \"\"\" parse rating into training and testing set\n",
    "\n",
    "    :param ratings: list\n",
    "        A list of triplet denoting users' rating records on movies\n",
    "\n",
    "    :param perc: float\n",
    "        The percentage that should is divided into testing set\n",
    "\n",
    "    :param test_filter: bool\n",
    "        If we remove the rating record from testing set if the rating is smaller than 3\n",
    "\n",
    "    :return rat_train_dict, rat_test_dict: dict\n",
    "         A dictionary of users rating on items.\n",
    "         {userix: {movieix: rating, ...}, ...}\n",
    "    \"\"\"\n",
    "    sep_counter = int(1/perc)\n",
    "    rat_train_dict = dict()\n",
    "    rat_test_dict = dict()\n",
    "    for ix, rat in enumerate(ratings):\n",
    "        u, i, r = rat\n",
    "        uix = user2ix[u]\n",
    "        iix = item2ix[i]\n",
    "        r = float(r)\n",
    "        if ix % sep_counter == 0:\n",
    "            # skip the record if its rating is lower than 3\n",
    "            if test_filter and r<3:\n",
    "                continue\n",
    "            if uix not in rat_test_dict:\n",
    "                rat_test_dict[uix] = {}\n",
    "            rat_test_dict[uix][iix] = r\n",
    "        else:\n",
    "            if uix not in rat_train_dict:\n",
    "                rat_train_dict[uix] = {}\n",
    "            rat_train_dict[uix][iix] = r\n",
    "\n",
    "    users_of_interest = list(rat_test_dict.keys())\n",
    "    ratings_of_interest = [rat_train_dict[user] for user in users_of_interest]\n",
    "    rat_train_dict = dict(zip(users_of_interest, ratings_of_interest))\n",
    "\n",
    "    return rat_train_dict, rat_test_dict\n",
    "\n",
    "rat_train_dict, rat_test_dict = rating_train_test_parser(rats)\n",
    "\n",
    "print(f'User reduced from {len(user2ix.keys())} to {len(rat_train_dict.keys())}')"
   ],
   "metadata": {
    "collapsed": false
   }
  },
  {
   "cell_type": "code",
   "execution_count": 3,
   "outputs": [],
   "source": [
    "def pairwise_loader_even_prob(training_dict, items, user_size, pos_size=1, neg_size=0, batch_size=128):\n",
    "    from random import choices, choice\n",
    "    from torch.utils.data import DataLoader\n",
    "\n",
    "    all_item_set = set(items.keys())\n",
    "\n",
    "    train_data = []\n",
    "    for _ in range(user_size):\n",
    "        user = choice(list(training_dict.keys()))\n",
    "        pos_cands = list(training_dict[user].keys())\n",
    "        pos_items = choices(pos_cands, k=pos_size)\n",
    "        # Using Negative Sampling\n",
    "        if neg_size!=0:\n",
    "            neg_cands = list(all_item_set-set(pos_items))\n",
    "            neg_set_size = len(pos_items)*neg_size\n",
    "            neg_items = choices(neg_cands, k=neg_set_size)\n",
    "            pos_items *= neg_size\n",
    "            target_user = [user] * neg_size * len(pos_items)\n",
    "            train_data.extend(zip(target_user, pos_items, neg_items))\n",
    "        # Not Using Negative Sampling\n",
    "        else:\n",
    "            target_user = [user] * len(pos_items)\n",
    "            train_data.extend(zip(target_user, pos_items))\n",
    "\n",
    "    train_data_loader = DataLoader(dataset=train_data, batch_size=batch_size, shuffle=True)\n",
    "\n",
    "    return train_data_loader"
   ],
   "metadata": {
    "collapsed": false
   }
  },
  {
   "cell_type": "code",
   "execution_count": 4,
   "outputs": [
    {
     "data": {
      "text/plain": "<torch.utils.data.dataloader.DataLoader at 0x23573d97700>"
     },
     "execution_count": 4,
     "metadata": {},
     "output_type": "execute_result"
    }
   ],
   "source": [
    "def list_loader_even_prob(training_dict, items, user_size, pos_size=1, neg_size=0, batch_size=128):\n",
    "    from random import choices, choice\n",
    "    from torch import tensor\n",
    "    from torch.utils.data import DataLoader\n",
    "\n",
    "    all_item_set = set(items.keys())\n",
    "\n",
    "    train_data = []\n",
    "    for _ in range(user_size):\n",
    "        user = choice(list(training_dict.keys()))\n",
    "        pos_cands = list(training_dict[user].keys())\n",
    "        pos_items = choices(pos_cands, k=pos_size)\n",
    "        # Using Negative Sampling\n",
    "        if neg_size!=0:\n",
    "            neg_cands = list(all_item_set-set(pos_items))\n",
    "            neg_set_size = len(pos_items)*neg_size\n",
    "            neg_items = choices(neg_cands, k=neg_set_size)\n",
    "            neg_items = [neg_items[i:i+neg_size] for i in range(0,len(neg_items), neg_size)]\n",
    "            target_user = [user] * len(pos_items)\n",
    "\n",
    "            # return\n",
    "            train_data.extend(zip(target_user, pos_items, tensor(neg_items)))\n",
    "        # Not Using Negative Sampling\n",
    "        else:\n",
    "            target_user = [user] * len(pos_items)\n",
    "            train_data.extend(zip(target_user, pos_items))\n",
    "\n",
    "    train_data_loader = DataLoader(dataset=train_data, batch_size=batch_size, shuffle=True)\n",
    "\n",
    "    return train_data_loader\n",
    "\n",
    "dl = list_loader_even_prob(\n",
    "    rat_train_dict\n",
    "    , ix2item\n",
    "    , user_size=1\n",
    "    , pos_size=2\n",
    "    , neg_size=4\n",
    ")\n",
    "dl"
   ],
   "metadata": {
    "collapsed": false
   }
  },
  {
   "cell_type": "code",
   "execution_count": 5,
   "outputs": [],
   "source": [
    "# modeling svd\n",
    "import torch\n",
    "import torch.nn as nn\n",
    "import torch.nn.functional as F\n",
    "from torch import tensor\n",
    "\n",
    "class FunkSVD(nn.Module):\n",
    "    \"\"\" Matrix Factorization based method, referring to FunkSVD\n",
    "    \"\"\"\n",
    "    def __init__(self, n_user, n_item, k_dim, negative_sampling:bool):\n",
    "        super(FunkSVD, self).__init__()\n",
    "        self.k_dim=k_dim\n",
    "        self.negative_sampling = negative_sampling # if training with negative sampling\n",
    "        # embeddings of interest\n",
    "        self.embedding_user = nn.Embedding(n_user, k_dim)\n",
    "        self.embedding_item = nn.Embedding(n_item, k_dim)\n",
    "        # init param\n",
    "        self.embedding_user.weight.data.uniform_(0, 1)\n",
    "        self.embedding_item.weight.data.uniform_(0, 1)\n",
    "\n",
    "    def forward(self, user, pos_item, neg_item=None):\n",
    "        pos_rat = (self.embedding_user(user)*self.embedding_item(pos_item)).sum(1)\n",
    "\n",
    "        if not self.negative_sampling:\n",
    "            return -pos_rat\n",
    "\n",
    "        neg_emb = self.embedding_item(neg_item)\n",
    "        # if len(neg_emb.shape) == 2:\n",
    "        #     r, c = neg_emb.shape\n",
    "        #     neg_emb = neg_emb.view(r, 1, self.k_dim)\n",
    "\n",
    "        user_emb = self.embedding_user(user).view(-1, self.k_dim, 1) # transform shape\n",
    "        neg_rat = -(torch.bmm(neg_emb, user_emb)).view(-1) # use bmm to calcualte score\n",
    "\n",
    "        return torch.cat((pos_rat, neg_rat), 0) # concat positive and negative ratings\n",
    "\n",
    "\n",
    "## place holder\n",
    "\n",
    "def MF_loss(preds):\n",
    "    return -F.logsigmoid(preds).sum()"
   ],
   "metadata": {
    "collapsed": false
   }
  },
  {
   "cell_type": "code",
   "execution_count": 6,
   "outputs": [
    {
     "ename": "RuntimeError",
     "evalue": "Expected 3-dimensional tensor, but got 2-dimensional tensor for argument #1 'batch1' (while checking arguments for bmm)",
     "output_type": "error",
     "traceback": [
      "\u001B[1;31m---------------------------------------------------------------------------\u001B[0m",
      "\u001B[1;31mRuntimeError\u001B[0m                              Traceback (most recent call last)",
      "Input \u001B[1;32mIn [6]\u001B[0m, in \u001B[0;36m<cell line: 4>\u001B[1;34m()\u001B[0m\n\u001B[0;32m     12\u001B[0m pos \u001B[38;5;241m=\u001B[39m autograd\u001B[38;5;241m.\u001B[39mVariable(LongTensor(pos))\n\u001B[0;32m     13\u001B[0m neg \u001B[38;5;241m=\u001B[39m autograd\u001B[38;5;241m.\u001B[39mVariable(LongTensor(neg))\n\u001B[1;32m---> 15\u001B[0m pred \u001B[38;5;241m=\u001B[39m \u001B[43msvd\u001B[49m\u001B[43m(\u001B[49m\u001B[43muser\u001B[49m\u001B[43m,\u001B[49m\u001B[43m \u001B[49m\u001B[43mpos\u001B[49m\u001B[43m,\u001B[49m\u001B[43m \u001B[49m\u001B[43mneg\u001B[49m\u001B[43m)\u001B[49m\n\u001B[0;32m     16\u001B[0m \u001B[38;5;28mprint\u001B[39m(pred)\n",
      "File \u001B[1;32me:\\python38\\lib\\site-packages\\torch\\nn\\modules\\module.py:1102\u001B[0m, in \u001B[0;36mModule._call_impl\u001B[1;34m(self, *input, **kwargs)\u001B[0m\n\u001B[0;32m   1098\u001B[0m \u001B[38;5;66;03m# If we don't have any hooks, we want to skip the rest of the logic in\u001B[39;00m\n\u001B[0;32m   1099\u001B[0m \u001B[38;5;66;03m# this function, and just call forward.\u001B[39;00m\n\u001B[0;32m   1100\u001B[0m \u001B[38;5;28;01mif\u001B[39;00m \u001B[38;5;129;01mnot\u001B[39;00m (\u001B[38;5;28mself\u001B[39m\u001B[38;5;241m.\u001B[39m_backward_hooks \u001B[38;5;129;01mor\u001B[39;00m \u001B[38;5;28mself\u001B[39m\u001B[38;5;241m.\u001B[39m_forward_hooks \u001B[38;5;129;01mor\u001B[39;00m \u001B[38;5;28mself\u001B[39m\u001B[38;5;241m.\u001B[39m_forward_pre_hooks \u001B[38;5;129;01mor\u001B[39;00m _global_backward_hooks\n\u001B[0;32m   1101\u001B[0m         \u001B[38;5;129;01mor\u001B[39;00m _global_forward_hooks \u001B[38;5;129;01mor\u001B[39;00m _global_forward_pre_hooks):\n\u001B[1;32m-> 1102\u001B[0m     \u001B[38;5;28;01mreturn\u001B[39;00m \u001B[43mforward_call\u001B[49m\u001B[43m(\u001B[49m\u001B[38;5;241;43m*\u001B[39;49m\u001B[38;5;28;43minput\u001B[39;49m\u001B[43m,\u001B[49m\u001B[43m \u001B[49m\u001B[38;5;241;43m*\u001B[39;49m\u001B[38;5;241;43m*\u001B[39;49m\u001B[43mkwargs\u001B[49m\u001B[43m)\u001B[49m\n\u001B[0;32m   1103\u001B[0m \u001B[38;5;66;03m# Do not call functions when jit is used\u001B[39;00m\n\u001B[0;32m   1104\u001B[0m full_backward_hooks, non_full_backward_hooks \u001B[38;5;241m=\u001B[39m [], []\n",
      "Input \u001B[1;32mIn [5]\u001B[0m, in \u001B[0;36mFunkSVD.forward\u001B[1;34m(self, user, pos_item, neg_item)\u001B[0m\n\u001B[0;32m     28\u001B[0m \u001B[38;5;66;03m# if len(neg_emb.shape) == 2:\u001B[39;00m\n\u001B[0;32m     29\u001B[0m \u001B[38;5;66;03m#     r, c = neg_emb.shape\u001B[39;00m\n\u001B[0;32m     30\u001B[0m \u001B[38;5;66;03m#     neg_emb = neg_emb.view(r, 1, self.k_dim)\u001B[39;00m\n\u001B[0;32m     32\u001B[0m user_emb \u001B[38;5;241m=\u001B[39m \u001B[38;5;28mself\u001B[39m\u001B[38;5;241m.\u001B[39membedding_user(user)\u001B[38;5;241m.\u001B[39mview(\u001B[38;5;241m-\u001B[39m\u001B[38;5;241m1\u001B[39m, \u001B[38;5;28mself\u001B[39m\u001B[38;5;241m.\u001B[39mk_dim, \u001B[38;5;241m1\u001B[39m) \u001B[38;5;66;03m# transform shape\u001B[39;00m\n\u001B[1;32m---> 33\u001B[0m neg_rat \u001B[38;5;241m=\u001B[39m \u001B[38;5;241m-\u001B[39m(\u001B[43mtorch\u001B[49m\u001B[38;5;241;43m.\u001B[39;49m\u001B[43mbmm\u001B[49m\u001B[43m(\u001B[49m\u001B[43mneg_emb\u001B[49m\u001B[43m,\u001B[49m\u001B[43m \u001B[49m\u001B[43muser_emb\u001B[49m\u001B[43m)\u001B[49m)\u001B[38;5;241m.\u001B[39mview(\u001B[38;5;241m-\u001B[39m\u001B[38;5;241m1\u001B[39m) \u001B[38;5;66;03m# use bmm to calcualte score\u001B[39;00m\n\u001B[0;32m     35\u001B[0m \u001B[38;5;28;01mreturn\u001B[39;00m torch\u001B[38;5;241m.\u001B[39mcat((pos_rat, neg_rat), \u001B[38;5;241m0\u001B[39m)\n",
      "\u001B[1;31mRuntimeError\u001B[0m: Expected 3-dimensional tensor, but got 2-dimensional tensor for argument #1 'batch1' (while checking arguments for bmm)"
     ]
    }
   ],
   "source": [
    "from torch import autograd, LongTensor\n",
    "\n",
    "svd = FunkSVD(n_user=610, n_item=9724, k_dim=5, negative_sampling=True)\n",
    "for data in pairwise_loader_even_prob(\n",
    "        rat_train_dict\n",
    "        , items=ix2item\n",
    "        , user_size=4\n",
    "        , pos_size=4\n",
    "        , neg_size=2):\n",
    "    user, pos, neg = data\n",
    "    user = autograd.Variable(LongTensor(user))\n",
    "    pos = autograd.Variable(LongTensor(pos))\n",
    "    neg = autograd.Variable(LongTensor(neg))\n",
    "\n",
    "    pred = svd(user, pos, neg)\n",
    "    print(pred)"
   ],
   "metadata": {
    "collapsed": false
   }
  },
  {
   "cell_type": "code",
   "execution_count": 7,
   "outputs": [],
   "source": [
    "def compute_rat_bias(rat_dict, user_size, item_size):\n",
    "    user_bias = dict(zip(range(user_size)\n",
    "                         , [0]*user_size))\n",
    "    item_bias = dict(zip(range(item_size)\n",
    "                         , [0]*item_size))\n",
    "    item_rat_dict = dict(zip(range(item_size)\n",
    "                             , [[] for _ in range(item_size)]))\n",
    "\n",
    "    for user in rat_dict:\n",
    "        N = len(rat_dict[user])\n",
    "        for item in rat_dict[user]:\n",
    "            # add item rating into\n",
    "            item_rat_dict[item].append(rat_dict[user][item])\n",
    "        # compute user's rating\n",
    "        user_bias[user] = sum(rat_dict[user].values())/N\n",
    "\n",
    "    for item in item_rat_dict: # compute item bias\n",
    "        N = len(item_rat_dict[item])\n",
    "        if N!=0:\n",
    "            item_bias[item] = sum(item_rat_dict[item])/N\n",
    "\n",
    "    return user_bias, item_bias\n",
    "\n",
    "user_bias, item_bias = compute_rat_bias(rat_train_dict, num_user, num_item)"
   ],
   "metadata": {
    "collapsed": false
   }
  },
  {
   "cell_type": "code",
   "execution_count": 9,
   "outputs": [
    {
     "name": "stdout",
     "output_type": "stream",
     "text": [
      "tensor([  7.4744,  10.1366,   8.2540,   7.9639,   8.0621,   7.8838,   8.3444,\n",
      "          7.8969,   6.5460,   7.5401,   8.1233,   8.7990,   8.7365,   8.1735,\n",
      "          9.3343,   6.5238,  -8.8653,  -5.9402,  -5.0215,  -8.1843,  -9.5395,\n",
      "         -9.2865,  -5.7957,  -9.6067,  -8.9581,  -5.1951,  -8.0884,  -7.8641,\n",
      "         -7.9977,  -7.6361,  -7.8661,  -5.3002,  -9.6921,  -8.5427,  -9.1093,\n",
      "         -8.5501, -10.0560,  -9.0353,  -9.6181,  -8.8410,  -6.6232,  -9.6402,\n",
      "         -4.8061,  -8.2708,  -7.7322,  -7.5513,  -7.7085,  -9.0200,  -8.0519,\n",
      "         -6.3847,  -4.7413,  -7.1312,  -7.1793,  -6.0086,  -7.6644,  -7.5558,\n",
      "         -8.5255,  -6.8394,  -8.9351,  -8.8195,  -9.7961,  -8.7836,  -9.2455,\n",
      "         -7.6261,  -8.4788,  -8.7987, -10.0848,  -6.3568,  -8.9567,  -7.4790,\n",
      "         -9.0873,  -7.8079,  -7.8558,  -5.4855,  -8.1737,  -9.8041,  -8.3126,\n",
      "         -8.0603,  -7.2732,  -7.7045], grad_fn=<CatBackward0>)\n"
     ]
    }
   ],
   "source": [
    "class BiasedFunkSVD(nn.Module):\n",
    "    \"\"\" Matrix Factorization based method, referring to FunkSVD\n",
    "    \"\"\"\n",
    "    def __init__(self, n_user, n_item, k_dim, user_bias, item_bias, negative_sampling:bool):\n",
    "        super(BiasedFunkSVD, self).__init__()\n",
    "        self.k_dim=k_dim\n",
    "        self.negative_sampling = negative_sampling # if training with negative sampling\n",
    "        # bias\n",
    "        self.bias_user = nn.Parameter(tensor(list(user_bias.values())))\n",
    "        self.bias_item = nn.Parameter(tensor(list(item_bias.values())))\n",
    "        self.bias = nn.Parameter(tensor([0.]), requires_grad=True)\n",
    "        # embeddings of interest\n",
    "        self.embedding_user = nn.Embedding(n_user, k_dim)\n",
    "        self.embedding_item = nn.Embedding(n_item, k_dim)\n",
    "        # init param\n",
    "        self.embedding_user.weight.data.uniform_(0, 2)\n",
    "        self.embedding_item.weight.data.uniform_(0, 2)\n",
    "\n",
    "    def pred_score(self, user, item):\n",
    "        user = tensor([user])\n",
    "        if not isinstance(item, torch.Tensor):\n",
    "            item = tensor(item)\n",
    "        predicted_score = self.embedding_user(user) \\\n",
    "                          @ self.embedding_item(item).T \\\n",
    "                          + self.bias_user[user] \\\n",
    "                          + self.bias_item[item] \\\n",
    "                          + self.bias\n",
    "        return predicted_score.view(-1)\n",
    "\n",
    "    def forward(self, user, pos_item, neg_item=None):\n",
    "        pos_rat = (self.embedding_user(user)\n",
    "                   * self.embedding_item(pos_item)).sum(1) \\\n",
    "                  + self.bias_user[user] \\\n",
    "                  + self.bias_item[pos_item] \\\n",
    "                  + self.bias\n",
    "\n",
    "        if not self.negative_sampling:\n",
    "            return -pos_rat\n",
    "\n",
    "        neg_emb = self.embedding_item(neg_item)\n",
    "        user_emb = self.embedding_user(user).view(-1, self.k_dim, 1) # transform shape\n",
    "        neg_size = neg_emb.shape[1]\n",
    "\n",
    "        neg_rat = -(\n",
    "                torch.bmm(neg_emb, user_emb)[:,:,0]\n",
    "                + self.bias_user[user].view(-1, 1).expand(-1, neg_size)\n",
    "                + self.bias_item[neg_item]\n",
    "        ).view(-1) # use bmm to calcualte score\n",
    "\n",
    "        return torch.cat((pos_rat, neg_rat), 0) # concat positive and negative ratings\n",
    "\n",
    "from torch import autograd, LongTensor\n",
    "\n",
    "bsvd = BiasedFunkSVD(n_user=610, n_item=9724, k_dim=5, user_bias=user_bias, item_bias=item_bias, negative_sampling=True)\n",
    "\n",
    "for data in list_loader_even_prob(\n",
    "            rat_train_dict\n",
    "            , items=ix2item\n",
    "            , user_size=4\n",
    "            , pos_size=4\n",
    "            , neg_size=4):\n",
    "    user, pos, neg = data\n",
    "    user = autograd.Variable(LongTensor(user))\n",
    "    pos = autograd.Variable(LongTensor(pos))\n",
    "    neg = autograd.Variable(LongTensor(neg))\n",
    "\n",
    "    pred = bsvd(user, pos, neg)\n",
    "    print(pred)"
   ],
   "metadata": {
    "collapsed": false
   }
  },
  {
   "cell_type": "code",
   "execution_count": 10,
   "outputs": [
    {
     "data": {
      "text/plain": "tensor([3.8614, 3.4706, 3.3023,  ..., 3.5000, 3.5000, 4.0000])"
     },
     "execution_count": 10,
     "metadata": {},
     "output_type": "execute_result"
    }
   ],
   "source": [
    "bsvd.bias_item"
   ],
   "metadata": {
    "collapsed": false
   }
  },
  {
   "cell_type": "code",
   "execution_count": 11,
   "outputs": [],
   "source": [
    "def train_model(model, ratings, items, n_epochs, opt_fn, user_size, pos_size, neg_size=0, negative_sampling=True, method='list', cuda=True):\n",
    "\n",
    "    import time\n",
    "    from torch import autograd, LongTensor\n",
    "    import numpy as np\n",
    "\n",
    "    assert method in ['list', 'pairwise'], 'Invalid method %s' % method\n",
    "    loader = list_loader_even_prob if method == 'list' else pairwise_loader_even_prob\n",
    "\n",
    "    device = torch.device('cuda' if cuda==True else 'cpu')\n",
    "\n",
    "    if cuda:\n",
    "        model.cuda()\n",
    "\n",
    "    losses = []\n",
    "\n",
    "    t0 = time.time()\n",
    "    for epoch in range(n_epochs):\n",
    "        train_data = loader(\n",
    "            ratings\n",
    "            , items\n",
    "            , user_size=user_size\n",
    "            , pos_size=pos_size\n",
    "            , neg_size=neg_size)\n",
    "\n",
    "        for i, batch in enumerate(train_data):\n",
    "            if not negative_sampling:\n",
    "                user, pos_item = batch\n",
    "            else:\n",
    "                user, pos_item, neg_item = batch\n",
    "\n",
    "            model.zero_grad()\n",
    "\n",
    "            # variablize\n",
    "            user = autograd.Variable(LongTensor(user)).to(device)\n",
    "            pos_item = autograd.Variable(LongTensor(pos_item)).to(device)\n",
    "            if negative_sampling:\n",
    "                neg_item = autograd.Variable(LongTensor(neg_item)).to(device)\n",
    "\n",
    "            preds = model(user=user, pos_item=pos_item)\\\n",
    "                        .mean()\\\n",
    "                if not negative_sampling else \\\n",
    "                    model(user=user, pos_item=pos_item, neg_item=neg_item)\\\n",
    "                        .mean()\n",
    "\n",
    "            loss = MF_loss(preds)\n",
    "\n",
    "            loss.backward()\n",
    "            opt_fn.step()\n",
    "            losses.append(loss.data.to(device).tolist())\n",
    "\n",
    "        if epoch % 10 == 0:\n",
    "            t1=time.time()\n",
    "            print(f'Epoch: {epoch}, Time: {round(t1-t0,2)}, /Average loss {np.mean(losses[-10:]).round(5)}')\n",
    "            t0=time.time()\n",
    "\n",
    "    return model, losses"
   ],
   "metadata": {
    "collapsed": false
   }
  },
  {
   "cell_type": "code",
   "execution_count": 12,
   "outputs": [
    {
     "name": "stdout",
     "output_type": "stream",
     "text": [
      "Epoch: 0, Time: 4.39, /Average loss 8.008\n",
      "Epoch: 10, Time: 0.39, /Average loss 7.75457\n",
      "Epoch: 20, Time: 0.34, /Average loss 7.49907\n",
      "Epoch: 30, Time: 0.34, /Average loss 7.19341\n",
      "Epoch: 40, Time: 0.35, /Average loss 7.00349\n",
      "Epoch: 50, Time: 0.35, /Average loss 6.65661\n",
      "Epoch: 60, Time: 0.33, /Average loss 6.40865\n",
      "Epoch: 70, Time: 0.35, /Average loss 6.25355\n",
      "Epoch: 80, Time: 0.34, /Average loss 6.01916\n",
      "Epoch: 90, Time: 0.37, /Average loss 5.69879\n",
      "Epoch: 100, Time: 0.41, /Average loss 5.5432\n",
      "Epoch: 110, Time: 0.35, /Average loss 5.32473\n",
      "Epoch: 120, Time: 0.39, /Average loss 5.15691\n",
      "Epoch: 130, Time: 0.39, /Average loss 4.96566\n",
      "Epoch: 140, Time: 0.37, /Average loss 4.79134\n",
      "Epoch: 150, Time: 0.49, /Average loss 4.59711\n",
      "Epoch: 160, Time: 0.46, /Average loss 4.42193\n",
      "Epoch: 170, Time: 0.37, /Average loss 4.3135\n",
      "Epoch: 180, Time: 0.4, /Average loss 4.10119\n",
      "Epoch: 190, Time: 0.39, /Average loss 4.00535\n",
      "Epoch: 200, Time: 0.38, /Average loss 3.85196\n",
      "Epoch: 210, Time: 0.37, /Average loss 3.70114\n",
      "Epoch: 220, Time: 0.41, /Average loss 3.5476\n",
      "Epoch: 230, Time: 0.37, /Average loss 3.45369\n",
      "Epoch: 240, Time: 0.33, /Average loss 3.33384\n",
      "Epoch: 250, Time: 0.38, /Average loss 3.20812\n",
      "Epoch: 260, Time: 0.39, /Average loss 3.14022\n",
      "Epoch: 270, Time: 0.35, /Average loss 2.99509\n",
      "Epoch: 280, Time: 0.37, /Average loss 2.92961\n",
      "Epoch: 290, Time: 0.38, /Average loss 2.8318\n",
      "Epoch: 300, Time: 0.34, /Average loss 2.71001\n",
      "Epoch: 310, Time: 0.34, /Average loss 2.60882\n",
      "Epoch: 320, Time: 0.34, /Average loss 2.53382\n",
      "Epoch: 330, Time: 0.35, /Average loss 2.41573\n",
      "Epoch: 340, Time: 0.33, /Average loss 2.3781\n",
      "Epoch: 350, Time: 0.34, /Average loss 2.29956\n",
      "Epoch: 360, Time: 0.35, /Average loss 2.24979\n",
      "Epoch: 370, Time: 0.35, /Average loss 2.16459\n",
      "Epoch: 380, Time: 0.37, /Average loss 2.10592\n",
      "Epoch: 390, Time: 0.37, /Average loss 2.04748\n",
      "Epoch: 400, Time: 0.38, /Average loss 1.97846\n",
      "Epoch: 410, Time: 0.37, /Average loss 1.91577\n",
      "Epoch: 420, Time: 0.43, /Average loss 1.87534\n",
      "Epoch: 430, Time: 0.38, /Average loss 1.81639\n",
      "Epoch: 440, Time: 0.38, /Average loss 1.78567\n",
      "Epoch: 450, Time: 0.42, /Average loss 1.73702\n",
      "Epoch: 460, Time: 0.4, /Average loss 1.69707\n",
      "Epoch: 470, Time: 0.34, /Average loss 1.64155\n",
      "Epoch: 480, Time: 0.35, /Average loss 1.60685\n",
      "Epoch: 490, Time: 0.33, /Average loss 1.57564\n",
      "Epoch: 500, Time: 0.38, /Average loss 1.52264\n",
      "Epoch: 510, Time: 0.38, /Average loss 1.47521\n"
     ]
    }
   ],
   "source": [
    "import torch.optim as optim\n",
    "\n",
    "cuda = torch.cuda.is_available()\n",
    "n_users = len(user2ix)\n",
    "n_items = len(item2ix)\n",
    "embed_size = 32\n",
    "\n",
    "num_epochs = 512 # Max number of training epochs\n",
    "lr = 0.01 # Set the learning rate\n",
    "reg = 0.01\n",
    "svd_raw = FunkSVD(n_users, n_items, embed_size, negative_sampling=False)\n",
    "opt_fn = optim.SGD(svd_raw.parameters(), lr=lr, weight_decay=reg, momentum=0.01) # Select an optimizer\n",
    "\n",
    "svd_raw, losses_r = train_model(\n",
    "    svd_raw\n",
    "    , ratings = rat_train_dict\n",
    "    , items = ix2item\n",
    "    , n_epochs = num_epochs\n",
    "    , opt_fn = opt_fn\n",
    "    , user_size = 512\n",
    "    , pos_size = 4\n",
    "    , negative_sampling=False\n",
    "    , cuda=True)"
   ],
   "metadata": {
    "collapsed": false
   }
  },
  {
   "cell_type": "code",
   "execution_count": 14,
   "outputs": [
    {
     "name": "stdout",
     "output_type": "stream",
     "text": [
      "Epoch: 0, Time: 1.66, /Average loss 4.73009\n",
      "Epoch: 10, Time: 1.52, /Average loss 4.59055\n",
      "Epoch: 20, Time: 1.55, /Average loss 4.47792\n",
      "Epoch: 30, Time: 1.46, /Average loss 4.35953\n",
      "Epoch: 40, Time: 1.45, /Average loss 4.23339\n",
      "Epoch: 50, Time: 1.36, /Average loss 4.027\n",
      "Epoch: 60, Time: 2.08, /Average loss 3.88086\n",
      "Epoch: 70, Time: 1.74, /Average loss 3.75775\n",
      "Epoch: 80, Time: 1.63, /Average loss 3.66519\n",
      "Epoch: 90, Time: 1.34, /Average loss 3.52091\n",
      "Epoch: 100, Time: 1.64, /Average loss 3.42875\n",
      "Epoch: 110, Time: 1.62, /Average loss 3.30319\n",
      "Epoch: 120, Time: 1.45, /Average loss 3.23825\n",
      "Epoch: 130, Time: 1.53, /Average loss 3.07922\n",
      "Epoch: 140, Time: 1.43, /Average loss 3.00076\n",
      "Epoch: 150, Time: 1.8, /Average loss 2.891\n",
      "Epoch: 160, Time: 1.7, /Average loss 2.8462\n",
      "Epoch: 170, Time: 1.55, /Average loss 2.74\n",
      "Epoch: 180, Time: 1.57, /Average loss 2.66361\n",
      "Epoch: 190, Time: 1.36, /Average loss 2.59731\n",
      "Epoch: 200, Time: 1.4, /Average loss 2.4995\n",
      "Epoch: 210, Time: 1.57, /Average loss 2.41297\n",
      "Epoch: 220, Time: 1.6, /Average loss 2.36129\n",
      "Epoch: 230, Time: 1.34, /Average loss 2.27177\n",
      "Epoch: 240, Time: 1.41, /Average loss 2.22434\n",
      "Epoch: 250, Time: 1.36, /Average loss 2.16864\n",
      "Epoch: 260, Time: 1.53, /Average loss 2.108\n",
      "Epoch: 270, Time: 1.58, /Average loss 2.03439\n",
      "Epoch: 280, Time: 1.39, /Average loss 1.98834\n",
      "Epoch: 290, Time: 1.39, /Average loss 1.94842\n",
      "Epoch: 300, Time: 1.51, /Average loss 1.88607\n",
      "Epoch: 310, Time: 1.49, /Average loss 1.84627\n",
      "Epoch: 320, Time: 1.61, /Average loss 1.78292\n",
      "Epoch: 330, Time: 1.35, /Average loss 1.75259\n",
      "Epoch: 340, Time: 1.34, /Average loss 1.70782\n",
      "Epoch: 350, Time: 1.54, /Average loss 1.66956\n",
      "Epoch: 360, Time: 1.61, /Average loss 1.62554\n",
      "Epoch: 370, Time: 1.71, /Average loss 1.58281\n",
      "Epoch: 380, Time: 1.57, /Average loss 1.53188\n",
      "Epoch: 390, Time: 1.32, /Average loss 1.50993\n",
      "Epoch: 400, Time: 1.39, /Average loss 1.48338\n",
      "Epoch: 410, Time: 1.51, /Average loss 1.46132\n",
      "Epoch: 420, Time: 1.5, /Average loss 1.42033\n",
      "Epoch: 430, Time: 1.44, /Average loss 1.39511\n",
      "Epoch: 440, Time: 1.38, /Average loss 1.35705\n",
      "Epoch: 450, Time: 1.37, /Average loss 1.34542\n",
      "Epoch: 460, Time: 1.52, /Average loss 1.31266\n",
      "Epoch: 470, Time: 1.53, /Average loss 1.29215\n",
      "Epoch: 480, Time: 1.47, /Average loss 1.26296\n",
      "Epoch: 490, Time: 1.37, /Average loss 1.25156\n",
      "Epoch: 500, Time: 1.32, /Average loss 1.22402\n",
      "Epoch: 510, Time: 1.42, /Average loss 1.20571\n"
     ]
    }
   ],
   "source": [
    "from torch import LongTensor\n",
    "import torch.autograd as autograd\n",
    "import torch.optim as optim\n",
    "import numpy as np\n",
    "import time\n",
    "\n",
    "cuda = torch.cuda.is_available()\n",
    "n_users = len(user2ix)\n",
    "n_items = len(item2ix)\n",
    "embed_size = 32\n",
    "\n",
    "num_epochs = 512 # Max number of training epochs\n",
    "lr = 0.01 # Set the learning rate\n",
    "reg = 0.01\n",
    "svd_l = FunkSVD(n_users, n_items, embed_size, negative_sampling=True)\n",
    "opt_fn = optim.SGD(svd_l.parameters(), lr=lr, weight_decay=reg, momentum=0.01) # Select an optimizer\n",
    "\n",
    "svd_l, losses_l = train_model(\n",
    "    svd_l\n",
    "    , ratings = rat_train_dict\n",
    "    , items = ix2item\n",
    "    , n_epochs = num_epochs\n",
    "    , opt_fn = opt_fn\n",
    "    , user_size = 512\n",
    "    , pos_size = 4\n",
    "    , neg_size = 4\n",
    "    , negative_sampling=True\n",
    "    , method = 'list'\n",
    "    , cuda = True\n",
    ")"
   ],
   "metadata": {
    "collapsed": false
   }
  },
  {
   "cell_type": "code",
   "execution_count": null,
   "outputs": [],
   "source": [
    "import matplotlib.pyplot as plt\n",
    "\n",
    "plt.plot(list(range(len(losses_l))), losses_l)"
   ],
   "metadata": {
    "collapsed": false
   }
  },
  {
   "cell_type": "code",
   "execution_count": 15,
   "outputs": [],
   "source": [
    "svd_raw = svd_raw.to('cpu')\n",
    "# svd_p = svd_p.to('cpu')\n",
    "svd_l = svd_l.to('cpu')"
   ],
   "metadata": {
    "collapsed": false
   }
  },
  {
   "cell_type": "markdown",
   "source": [
    "测试方法为：在集合【去除训练item的物品集】中预测用户对商品的评分"
   ],
   "metadata": {
    "collapsed": false
   }
  },
  {
   "cell_type": "code",
   "execution_count": 16,
   "outputs": [],
   "source": [
    "def generate_testing_candidates(rating_train, items):\n",
    "    items_set = set(list(items.keys()))\n",
    "    testing_cand = {}\n",
    "    for user in rating_train:\n",
    "        testing_cand[user] = list(items_set-set(rating_train[user].keys()))\n",
    "    return testing_cand\n",
    "\n",
    "testing_candidates = generate_testing_candidates(rat_train_dict, ix2item)"
   ],
   "metadata": {
    "collapsed": false
   }
  },
  {
   "cell_type": "code",
   "execution_count": 17,
   "outputs": [],
   "source": [
    "def predict_recommendation(model, test_cands):\n",
    "    from torch import tensor\n",
    "\n",
    "    predict = {}\n",
    "    for user in test_cands:\n",
    "        items = test_cands[user]\n",
    "        # dot product as estimation of rating\n",
    "        pred = model.embedding_user(tensor([user])) \\\n",
    "               @ model.embedding_item(tensor(items)).T\n",
    "        pred_ix = torch.argsort(-pred)\n",
    "        predict[user] = [items[ix] for ix in pred_ix[0]]\n",
    "\n",
    "    return predict\n",
    "\n",
    "pred_dict_raw = predict_recommendation(svd_raw, testing_candidates)\n",
    "# pred_dict_p = predict_recommendation(svd_p, testing_candidates)\n",
    "pred_dict_l = predict_recommendation(svd_l, testing_candidates)\n"
   ],
   "metadata": {
    "collapsed": false
   }
  },
  {
   "cell_type": "code",
   "execution_count": 19,
   "outputs": [
    {
     "data": {
      "text/plain": "<Figure size 432x288 with 1 Axes>",
      "image/png": "[encoded data removed]"
     },
     "metadata": {
      "needs_background": "light"
     },
     "output_type": "display_data"
    }
   ],
   "source": [
    "\"\"\"\n",
    "Metric: https://towardsdatascience.com/ranking-evaluation-metrics-for-recommender-systems-263d0a66ef54\n",
    "\"\"\"\n",
    "import matplotlib.pyplot as plt\n",
    "\n",
    "def _f1(k, test, predict):\n",
    "    \"\"\" Compute f1 score for each user\n",
    "\n",
    "    :param k: int\n",
    "    :param test: list of int\n",
    "    :param predict: list of int\n",
    "    :return tp_value: float\n",
    "    \"\"\"\n",
    "    max_eval_size = min(k, len(predict)) # in case user has little candidate item\n",
    "    tp = 0\n",
    "    for i in range(max_eval_size):\n",
    "        if predict[i] in test:\n",
    "            tp += 1\n",
    "    return 2*tp/(max_eval_size + len(test))\n",
    "\n",
    "\n",
    "def f1_ak_k(k, test_dict, pred_dict):\n",
    "    res = []\n",
    "    for user in test_dict:\n",
    "        res.append(_f1(k, test_dict[user], pred_dict[user]))\n",
    "    return sum(res)/len(test_dict)\n",
    "\n",
    "k = 20\n",
    "f1_raw = [f1_ak_k(ki, rat_test_dict, pred_dict_raw) for ki in range(k)]\n",
    "# f1_p = [f1_ak_k(ki, rat_test_dict, pred_dict_p) for ki in range(k)]\n",
    "f1_l = [f1_ak_k(ki, rat_test_dict, pred_dict_l) for ki in range(k)]\n",
    "\n",
    "plt.plot(list(range(k)), f1_raw, label='raw')\n",
    "# plt.plot(list(range(k)), f1_p, label='pairwise')\n",
    "plt.plot(list(range(k)), f1_l, label='listwise')\n",
    "\n",
    "plt.legend()\n",
    "\n",
    "plt.show()"
   ],
   "metadata": {
    "collapsed": false
   }
  },
  {
   "cell_type": "code",
   "execution_count": 20,
   "outputs": [
    {
     "data": {
      "text/plain": "<Figure size 432x288 with 1 Axes>",
      "image/png": "[encoded data removed]"
     },
     "metadata": {
      "needs_background": "light"
     },
     "output_type": "display_data"
    }
   ],
   "source": [
    "def _hr(k, test, pred):\n",
    "    if isinstance(pred, dict):\n",
    "        pred = list(pred.keys())\n",
    "\n",
    "    if k - len(set(pred[:k])-set(test)) > 0:\n",
    "        return 1\n",
    "    else:\n",
    "        return 0\n",
    "\n",
    "def hit_rate_at_k(k, test_dict, pred_dict):\n",
    "    res = []\n",
    "    for user in test_dict:\n",
    "        res.append(_hr(k, list(test_dict[user]), pred_dict[user]))\n",
    "    return sum(res)/len(test_dict)\n",
    "\n",
    "\n",
    "k = 20\n",
    "hr_raw = [hit_rate_at_k(ki, rat_test_dict, pred_dict_raw) for ki in range(k)]\n",
    "# hr_p = [hit_rate_at_k(ki, rat_test_dict, pred_dict_p) for ki in range(k)]\n",
    "hr_l = [hit_rate_at_k(ki, rat_test_dict, pred_dict_l) for ki in range(k)]\n",
    "\n",
    "plt.plot(list(range(k)), hr_raw, label='raw')\n",
    "# plt.plot(list(range(k)), hr_p, label='pairwise')\n",
    "plt.plot(list(range(k)), hr_l, label='listwise')\n",
    "\n",
    "plt.legend()\n",
    "\n",
    "plt.show()"
   ],
   "metadata": {
    "collapsed": false
   }
  },
  {
   "cell_type": "code",
   "execution_count": null,
   "outputs": [],
   "source": [
    "pred_dict_raw[0][:2]"
   ],
   "metadata": {
    "collapsed": false
   }
  },
  {
   "cell_type": "code",
   "execution_count": 21,
   "outputs": [
    {
     "data": {
      "text/plain": "<Figure size 432x288 with 1 Axes>",
      "image/png": "[encoded data removed]"
     },
     "metadata": {
      "needs_background": "light"
     },
     "output_type": "display_data"
    }
   ],
   "source": [
    "def _map(k, test, pred):\n",
    "    if isinstance(pred, dict):\n",
    "        pred = list(pred.keys())\n",
    "\n",
    "    if not k:\n",
    "        return 0\n",
    "\n",
    "    max_eval_size = min(k, len(pred))\n",
    "    x, s = 0, 0\n",
    "    for i in range(max_eval_size):\n",
    "        if pred[i] in test:\n",
    "            x += 1\n",
    "            s += x/(i+1)\n",
    "\n",
    "    return s/max_eval_size # average precision\n",
    "\n",
    "def map_at_k(k, test_dict, pred_dict):\n",
    "    res = []\n",
    "    for user in test_dict:\n",
    "        res.append(_map(k, list(test_dict[user]), pred_dict[user]))\n",
    "    # mean of average precision\n",
    "    return sum(res)/len(test_dict)\n",
    "\n",
    "k = 20\n",
    "map_raw = [map_at_k(ki, rat_test_dict, pred_dict_raw) for ki in range(k)]\n",
    "# map_p = [map_at_k(ki, rat_test_dict, pred_dict_p) for ki in range(k)]\n",
    "map_l = [map_at_k(ki, rat_test_dict, pred_dict_l) for ki in range(k)]\n",
    "\n",
    "plt.plot(list(range(k)), map_raw, label='raw')\n",
    "# plt.plot(list(range(k)), map_p, label='pairwise')\n",
    "plt.plot(list(range(k)), map_l, label='listwise')\n",
    "\n",
    "plt.legend()\n",
    "\n",
    "plt.show()"
   ],
   "metadata": {
    "collapsed": false
   }
  },
  {
   "cell_type": "code",
   "execution_count": 23,
   "outputs": [
    {
     "data": {
      "text/plain": "<Figure size 432x288 with 1 Axes>",
      "image/png": "[encoded data removed]"
     },
     "metadata": {
      "needs_background": "light"
     },
     "output_type": "display_data"
    }
   ],
   "source": [
    "def _dcg(score):\n",
    "    if len(score)==0:\n",
    "        return 0\n",
    "\n",
    "    from math import log\n",
    "    dcg = 0\n",
    "    for ix, score_i in enumerate(score):\n",
    "        if score_i != 0:\n",
    "            dcg += score_i / log(ix+2, 2)\n",
    "    return dcg\n",
    "\n",
    "def _ndcg(k, test, pred, use_score):\n",
    "    if isinstance(pred, dict) and use_score:\n",
    "        score = [test[pred_i] if pred_i in test else 0\n",
    "                 for pred_i in pred[:k]]\n",
    "    else:\n",
    "        score = [1 if pred_i in test else 0\n",
    "                 for pred_i in pred[:k]]\n",
    "\n",
    "    return _dcg(score)\n",
    "\n",
    "def ndcg(k, test, predict, use_score=True):\n",
    "    res = []\n",
    "    for user in test:\n",
    "        res.append(_ndcg(k, test[user], predict[user], use_score))\n",
    "    return sum(res) / len(test)\n",
    "\n",
    "k = 20\n",
    "ndcg_raw = [ndcg(ki, rat_test_dict, pred_dict_raw) for ki in range(k)]\n",
    "# ndcg_p = [ndcg(ki, rat_test_dict, pred_dict_p) for ki in range(k)]\n",
    "ndcg_l = [ndcg(ki, rat_test_dict, pred_dict_l) for ki in range(k)]\n",
    "\n",
    "plt.plot(list(range(k)), ndcg_raw, label='raw')\n",
    "# plt.plot(list(range(k)), ndcg_p, label='pairwise')\n",
    "plt.plot(list(range(k)), ndcg_l, label='listwise')\n",
    "\n",
    "plt.legend()\n",
    "\n",
    "plt.show()"
   ],
   "metadata": {
    "collapsed": false
   }
  },
  {
   "cell_type": "code",
   "execution_count": null,
   "outputs": [],
   "source": [],
   "metadata": {
    "collapsed": false,
    "pycharm": {
     "is_executing": true
    }
   }
  },
  {
   "cell_type": "code",
   "execution_count": null,
   "outputs": [],
   "source": [],
   "metadata": {
    "collapsed": false,
    "pycharm": {
     "is_executing": true
    }
   }
  },
  {
   "cell_type": "code",
   "execution_count": 24,
   "outputs": [],
   "source": [],
   "metadata": {
    "collapsed": false
   }
  }
 ],
 "metadata": {
  "kernelspec": {
   "display_name": "Python 3.8.10 64-bit",
   "language": "python",
   "name": "python3"
  },
  "language_info": {
   "codemirror_mode": {
    "name": "ipython",
    "version": 3
   },
   "file_extension": ".py",
   "mimetype": "text/x-python",
   "name": "python",
   "nbconvert_exporter": "python",
   "pygments_lexer": "ipython3",
   "version": "3.8.10"
  },
  "orig_nbformat": 4,
  "vscode": {
   "interpreter": {
    "hash": "00499476119a38fdac92034240d7ef2fa4f5985bf02d398f0fd3693908f0286e"
   }
  }
 },
 "nbformat": 4,
 "nbformat_minor": 2
}
