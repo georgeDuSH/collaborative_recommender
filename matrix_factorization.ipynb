{
 "cells": [
  {
   "cell_type": "code",
   "execution_count": 1,
   "metadata": {},
   "outputs": [
    {
     "name": "stdout",
     "output_type": "stream",
     "text": [
      "Users: 610, Items: 9724. Sparsity: 0.9830003169443864\n"
     ]
    }
   ],
   "source": [
    "import random\n",
    "\n",
    "def file_reader_movie_lens_rating(path='', sep='::'):\n",
    "    \"\"\" read in rating dataset from movie lens\n",
    "\n",
    "    :param path:\n",
    "    :param sep:\n",
    "    :return:\n",
    "    \"\"\"\n",
    "    f = open(file=path, mode='r')\n",
    "    if sep==',':\n",
    "        f.readline() # skip header\n",
    "    rats = []\n",
    "    f_line = f.readline()\n",
    "    while True:\n",
    "        if not f_line:\n",
    "            break\n",
    "        # parse\n",
    "        user, item, rating, timestamp = f_line.strip().split(sep)\n",
    "        rats.append([user, item, rating])\n",
    "\n",
    "        f_line = f.readline()\n",
    "\n",
    "    return rats\n",
    "\n",
    "def obj_mapping(ratings):\n",
    "    \"\"\" Read in rating data into get mapper\n",
    "\n",
    "    :param rats:\n",
    "    :return:\n",
    "    \"\"\"\n",
    "    def obj2ix(obj):\n",
    "        obj = sorted(list(set(obj)), key=lambda x: int(x))\n",
    "        ix = list(range(len(obj)))\n",
    "        return dict(zip(obj, ix)), dict(zip(ix, obj))\n",
    "\n",
    "    users, items, _ = zip(*ratings)\n",
    "    user2ix, ix2user = obj2ix(users)\n",
    "    item2ix, ix2item = obj2ix(items)\n",
    "\n",
    "    return user2ix, ix2user, item2ix, ix2item\n",
    "\n",
    "rats = file_reader_movie_lens_rating(path='./data/ml-small/ratings.csv', sep=',')\n",
    "# rats = file_reader_movie_lens_rating(path='./data/ml-1m/ratings.dat', sep='::')\n",
    "\n",
    "user2ix, ix2user, item2ix, ix2item = obj_mapping(rats)\n",
    "\n",
    "num_user = len(user2ix.keys())\n",
    "num_item = len(item2ix.keys())\n",
    "\n",
    "print(f'Users: {num_user}, Items: {num_item}. Sparsity: {1-len(rats)/num_user/num_item}')"
   ]
  },
  {
   "cell_type": "code",
   "execution_count": 2,
   "outputs": [
    {
     "name": "stdout",
     "output_type": "stream",
     "text": [
      "User reduced from 610 to 607\n"
     ]
    }
   ],
   "source": [
    "def rating_train_test_parser(ratings, perc=0.2, test_filter=True):\n",
    "    \"\"\" parse rating into training and testing set\n",
    "\n",
    "    :param ratings: list\n",
    "        A list of triplet denoting users' rating records on movies\n",
    "\n",
    "    :param perc: float\n",
    "        The percentage that should is divided into testing set\n",
    "\n",
    "    :param test_filter: bool\n",
    "        If we remove the rating record from testing set if the rating is smaller than 3\n",
    "\n",
    "    :return rat_train_dict, rat_test_dict: dict\n",
    "         A dictionary of users rating on items.\n",
    "         {userix: {movieix: rating, ...}, ...}\n",
    "    \"\"\"\n",
    "    sep_counter = int(1/perc)\n",
    "    rat_train_dict = dict()\n",
    "    rat_test_dict = dict()\n",
    "    for ix, rat in enumerate(ratings):\n",
    "        u, i, r = rat\n",
    "        uix = user2ix[u]\n",
    "        iix = item2ix[i]\n",
    "        r = float(r)\n",
    "        if ix % sep_counter == 0:\n",
    "            # skip the record if its rating is lower than 3\n",
    "            if test_filter and r<3:\n",
    "                continue\n",
    "            if uix not in rat_test_dict:\n",
    "                rat_test_dict[uix] = {}\n",
    "            rat_test_dict[uix][iix] = r\n",
    "        else:\n",
    "            if uix not in rat_train_dict:\n",
    "                rat_train_dict[uix] = {}\n",
    "            rat_train_dict[uix][iix] = r\n",
    "\n",
    "    users_of_interest = list(rat_test_dict.keys())\n",
    "    ratings_of_interest = [rat_train_dict[user] for user in users_of_interest]\n",
    "    rat_train_dict = dict(zip(users_of_interest, ratings_of_interest))\n",
    "\n",
    "    return rat_train_dict, rat_test_dict\n",
    "\n",
    "rat_train_dict, rat_test_dict = rating_train_test_parser(rats)\n",
    "\n",
    "print(f'User reduced from {len(user2ix.keys())} to {len(rat_train_dict.keys())}')"
   ],
   "metadata": {
    "collapsed": false
   }
  },
  {
   "cell_type": "code",
   "execution_count": 3,
   "outputs": [],
   "source": [
    "def pairwise_loader_even_prob(training_dict, items, user_size, pos_size=1, neg_size=0, batch_size=128):\n",
    "    from random import choices, choice\n",
    "    from torch.utils.data import DataLoader\n",
    "\n",
    "    all_item_set = set(items.keys())\n",
    "\n",
    "    train_data = []\n",
    "    for _ in range(user_size):\n",
    "        user = choice(list(training_dict.keys()))\n",
    "        pos_cands = list(training_dict[user].keys())\n",
    "        pos_items = choices(pos_cands, k=pos_size)\n",
    "        # Using Negative Sampling\n",
    "        if neg_size!=0:\n",
    "            neg_cands = list(all_item_set-set(pos_items))\n",
    "            neg_set_size = len(pos_items)*neg_size\n",
    "            neg_items = choices(neg_cands, k=neg_set_size)\n",
    "            pos_items *= neg_size\n",
    "            target_user = [user] * neg_size * len(pos_items)\n",
    "            train_data.extend(zip(target_user, pos_items, neg_items))\n",
    "        # Not Using Negative Sampling\n",
    "        else:\n",
    "            target_user = [user] * len(pos_items)\n",
    "            train_data.extend(zip(target_user, pos_items))\n",
    "\n",
    "    train_data_loader = DataLoader(dataset=train_data, batch_size=batch_size, shuffle=True)\n",
    "\n",
    "    return train_data_loader"
   ],
   "metadata": {
    "collapsed": false
   }
  },
  {
   "cell_type": "code",
   "execution_count": 4,
   "outputs": [
    {
     "data": {
      "text/plain": "<torch.utils.data.dataloader.DataLoader at 0x26e21971340>"
     },
     "execution_count": 4,
     "metadata": {},
     "output_type": "execute_result"
    }
   ],
   "source": [
    "def list_loader_even_prob(training_dict, items, user_size, pos_size=1, neg_size=0, batch_size=128):\n",
    "    from random import choices, choice\n",
    "    from torch import tensor\n",
    "    from torch.utils.data import DataLoader\n",
    "\n",
    "    all_item_set = set(items.keys())\n",
    "\n",
    "    train_data = []\n",
    "    for _ in range(user_size):\n",
    "        user = choice(list(training_dict.keys()))\n",
    "        pos_cands = list(training_dict[user].keys())\n",
    "        pos_items = choices(pos_cands, k=pos_size)\n",
    "        # Using Negative Sampling\n",
    "        if neg_size!=0:\n",
    "            neg_cands = list(all_item_set-set(pos_items))\n",
    "            neg_set_size = len(pos_items)*neg_size\n",
    "            neg_items = choices(neg_cands, k=neg_set_size)\n",
    "            neg_items = [neg_items[i:i+neg_size] for i in range(0,len(neg_items), neg_size)]\n",
    "            target_user = [user] * len(pos_items)\n",
    "\n",
    "            # return\n",
    "            train_data.extend(zip(target_user, pos_items, tensor(neg_items)))\n",
    "        # Not Using Negative Sampling\n",
    "        else:\n",
    "            target_user = [user] * len(pos_items)\n",
    "            train_data.extend(zip(target_user, pos_items))\n",
    "\n",
    "    train_data_loader = DataLoader(dataset=train_data, batch_size=batch_size, shuffle=True)\n",
    "\n",
    "    return train_data_loader\n",
    "\n",
    "dl = list_loader_even_prob(\n",
    "    rat_train_dict\n",
    "    , ix2item\n",
    "    , user_size=1\n",
    "    , pos_size=2\n",
    "    , neg_size=4\n",
    ")\n",
    "dl"
   ],
   "metadata": {
    "collapsed": false
   }
  },
  {
   "cell_type": "code",
   "execution_count": 5,
   "outputs": [],
   "source": [
    "# modeling svd\n",
    "import torch\n",
    "import torch.nn as nn\n",
    "import torch.nn.functional as F\n",
    "from torch import tensor\n",
    "\n",
    "class FunkSVD(nn.Module):\n",
    "    \"\"\" Matrix Factorization based method, referring to FunkSVD\n",
    "    \"\"\"\n",
    "    def __init__(self, n_user, n_item, k_dim, negative_sampling:bool):\n",
    "        super(FunkSVD, self).__init__()\n",
    "        self.k_dim=k_dim\n",
    "        self.negative_sampling = negative_sampling # if training with negative sampling\n",
    "        # embeddings of interest\n",
    "        self.embedding_user = nn.Embedding(n_user, k_dim)\n",
    "        self.embedding_item = nn.Embedding(n_item, k_dim)\n",
    "        # init param\n",
    "        self.embedding_user.weight.data.uniform_(0, 1)\n",
    "        self.embedding_item.weight.data.uniform_(0, 1)\n",
    "\n",
    "    def forward(self, user, pos_item, neg_item=None):\n",
    "        pos_rat = (self.embedding_user(user)*self.embedding_item(pos_item)).sum(1)\n",
    "\n",
    "        if not self.negative_sampling:\n",
    "            return -pos_rat\n",
    "\n",
    "        neg_emb = self.embedding_item(neg_item)\n",
    "        if len(neg_emb.shape) == 2:\n",
    "            r, c = neg_emb.shape\n",
    "            neg_emb = neg_emb.view(r, 1, self.k_dim)\n",
    "\n",
    "        user_emb = self.embedding_user(user).view(-1, self.k_dim, 1) # transform shape\n",
    "        neg_rat = -(torch.bmm(neg_emb, user_emb)).view(-1) # use bmm to calcualte score\n",
    "\n",
    "        return torch.cat((pos_rat, neg_rat), 0) # concat positive and negative ratings\n",
    "\n",
    "\n",
    "## place holder\n",
    "\n",
    "def MF_loss(preds):\n",
    "    return -F.logsigmoid(preds).sum()"
   ],
   "metadata": {
    "collapsed": false
   }
  },
  {
   "cell_type": "code",
   "execution_count": 6,
   "outputs": [
    {
     "name": "stdout",
     "output_type": "stream",
     "text": [
      "tensor([ 0.5371,  1.1374,  1.1374,  1.9981,  1.2471,  2.1559,  1.0537,  0.6336,\n",
      "         1.2730,  1.3342,  1.0698,  0.8609,  2.2954,  0.6336,  0.5498,  1.0537,\n",
      "         1.3342,  1.3162,  0.8609,  2.1559,  2.4523,  1.2471,  0.5498,  0.5371,\n",
      "         1.2730,  2.4523,  1.3162,  2.2954,  1.0698,  2.2096,  1.9981,  2.2096,\n",
      "        -0.7731, -1.1376, -2.3335, -1.3212, -0.7849, -0.7965, -0.7528, -0.5682,\n",
      "        -1.1941, -1.7976, -0.7704, -0.7758, -1.4420, -0.2344, -0.3958, -1.7587,\n",
      "        -1.0208, -1.3526, -0.8799, -2.1772, -1.7836, -0.2643, -0.6642, -0.9018,\n",
      "        -0.9680, -1.0897, -1.6322, -1.3735, -0.2643, -1.7579, -2.1875, -1.6263],\n",
      "       grad_fn=<CatBackward0>)\n"
     ]
    }
   ],
   "source": [
    "from torch import autograd, LongTensor\n",
    "\n",
    "\n",
    "svd = FunkSVD(n_user=610, n_item=9724, k_dim=5, negative_sampling=True)\n",
    "for data in pairwise_loader_even_prob(\n",
    "        rat_train_dict\n",
    "        , items=ix2item\n",
    "        , user_size=4\n",
    "        , pos_size=4\n",
    "        , neg_size=2):\n",
    "    user, pos, neg = data\n",
    "    user = autograd.Variable(LongTensor(user))\n",
    "    pos = autograd.Variable(LongTensor(pos))\n",
    "    neg = autograd.Variable(LongTensor(neg))\n",
    "\n",
    "    pred = svd(user, pos, neg)\n",
    "    print(pred)"
   ],
   "metadata": {
    "collapsed": false
   }
  },
  {
   "cell_type": "code",
   "execution_count": 7,
   "outputs": [],
   "source": [
    "def compute_rat_bias(rat_dict, user_size, item_size):\n",
    "    user_bias = dict(zip(range(user_size)\n",
    "                         , [0]*user_size))\n",
    "    item_bias = dict(zip(range(item_size)\n",
    "                         , [0]*item_size))\n",
    "    item_rat_dict = dict(zip(range(item_size)\n",
    "                             , [[] for _ in range(item_size)]))\n",
    "\n",
    "    for user in rat_dict:\n",
    "        N = len(rat_dict[user])\n",
    "        for item in rat_dict[user]:\n",
    "            # add item rating into\n",
    "            item_rat_dict[item].append(rat_dict[user][item])\n",
    "        # compute user's rating\n",
    "        user_bias[user] = sum(rat_dict[user].values())/N\n",
    "\n",
    "    for item in item_rat_dict: # compute item bias\n",
    "        N = len(item_rat_dict[item])\n",
    "        if N!=0:\n",
    "            item_bias[item] = sum(item_rat_dict[item])/N\n",
    "\n",
    "    return user_bias, item_bias\n",
    "\n",
    "user_bias, item_bias = compute_rat_bias(rat_train_dict, num_user, num_item)"
   ],
   "metadata": {
    "collapsed": false
   }
  },
  {
   "cell_type": "code",
   "execution_count": 8,
   "outputs": [
    {
     "name": "stdout",
     "output_type": "stream",
     "text": [
      "tensor([ 0.5371,  1.1374,  1.1374,  1.9981,  1.2471,  2.1559,  1.0537,  0.6336,\n",
      "         1.2730,  1.3342,  1.0698,  0.8609,  2.2954,  0.6336,  0.5498,  1.0537,\n",
      "         1.3342,  1.3162,  0.8609,  2.1559,  2.4523,  1.2471,  0.5498,  0.5371,\n",
      "         1.2730,  2.4523,  1.3162,  2.2954,  1.0698,  2.2096,  1.9981,  2.2096,\n",
      "        -0.7731, -1.1376, -2.3335, -1.3212, -0.7849, -0.7965, -0.7528, -0.5682,\n",
      "        -1.1941, -1.7976, -0.7704, -0.7758, -1.4420, -0.2344, -0.3958, -1.7587,\n",
      "        -1.0208, -1.3526, -0.8799, -2.1772, -1.7836, -0.2643, -0.6642, -0.9018,\n",
      "        -0.9680, -1.0897, -1.6322, -1.3735, -0.2643, -1.7579, -2.1875, -1.6263],\n",
      "       grad_fn=<CatBackward0>)\n"
     ]
    }
   ],
   "source": [
    "class BiasedFunkSVD(nn.Module):\n",
    "    \"\"\" Matrix Factorization based method, referring to FunkSVD\n",
    "    \"\"\"\n",
    "    def __init__(self, n_user, n_item, k_dim, user_bias, item_bias, negative_sampling:bool):\n",
    "        super(BiasedFunkSVD, self).__init__()\n",
    "        self.k_dim=k_dim\n",
    "        self.negative_sampling = negative_sampling # if training with negative sampling\n",
    "        # bias\n",
    "        self.bias_user = torch.tensor(list(user_bias.values()))\n",
    "        self.bias_item = torch.tensor(list(item_bias.values()))\n",
    "        self.bias = nn.Parameter(tensor([0.]), requires_grad=True)\n",
    "        # embeddings of interest\n",
    "        self.embedding_user = nn.Embedding(n_user, k_dim)\n",
    "        self.embedding_item = nn.Embedding(n_item, k_dim)\n",
    "        # init param\n",
    "        self.embedding_user.weight.data.uniform_(0, 1)\n",
    "        self.embedding_item.weight.data.uniform_(0, 1)\n",
    "\n",
    "    def forward(self, user, pos_item, neg_item=None):\n",
    "        pos_rat = (self.embedding_user(user)\n",
    "                   * self.embedding_item(pos_item)).sum(1) \\\n",
    "                  + self.bias_user[user] \\\n",
    "                  + self.bias_item[pos_item] \\\n",
    "                  + self.bias\n",
    "\n",
    "        if not self.negative_sampling:\n",
    "            return -pos_rat\n",
    "\n",
    "        neg_emb = self.embedding_item(neg_item)\n",
    "        if len(neg_emb.shape) == 2:\n",
    "            r, c = neg_emb.shape\n",
    "            neg_emb = neg_emb.view(r, 1, self.k_dim)\n",
    "\n",
    "        user_emb = self.embedding_user(user).view(-1, self.k_dim, 1) # transform shape\n",
    "        neg_size = neg_emb.shape[1]\n",
    "\n",
    "        neg_rat = -(\n",
    "                torch.bmm(neg_emb, user_emb)[:,:,0]\n",
    "                + self.bias_user[user].view(-1, 1).expand(-1, neg_size)\n",
    "                + self.bias_item[neg_item]\n",
    "        ).view(-1) # use bmm to calcualte score\n",
    "\n",
    "        return torch.cat((pos_rat, neg_rat), 0) # concat positive and negative ratings\n",
    "\n",
    "from torch import autograd, LongTensor\n",
    "\n",
    "bsvd = BiasedFunkSVD(n_user=610, n_item=9724, k_dim=5, user_bias=user_bias, item_bias=item_bias, negative_sampling=True)\n",
    "\n",
    "for data in list_loader_even_prob(\n",
    "            rat_train_dict\n",
    "            , items=ix2item\n",
    "            , user_size=4\n",
    "            , pos_size=4\n",
    "            , neg_size=4):\n",
    "    user, pos, neg = data\n",
    "    user = autograd.Variable(LongTensor(user))\n",
    "    pos = autograd.Variable(LongTensor(pos))\n",
    "    neg = autograd.Variable(LongTensor(neg))\n",
    "\n",
    "    perd = bsvd(user, pos, neg)\n",
    "    print(pred)"
   ],
   "metadata": {
    "collapsed": false
   }
  },
  {
   "cell_type": "code",
   "execution_count": 9,
   "outputs": [
    {
     "data": {
      "text/plain": "tensor([3.8614, 3.4706, 3.3023,  ..., 3.5000, 3.5000, 4.0000])"
     },
     "execution_count": 9,
     "metadata": {},
     "output_type": "execute_result"
    }
   ],
   "source": [
    "bsvd.bias_item"
   ],
   "metadata": {
    "collapsed": false
   }
  },
  {
   "cell_type": "code",
   "execution_count": 10,
   "outputs": [],
   "source": [
    "def train_model(model, ratings, items, n_epochs, opt_fn, user_size, pos_size, neg_size=0, negative_sampling=True, method='list', cuda=True):\n",
    "\n",
    "    import time\n",
    "    from torch import autograd, LongTensor\n",
    "    import numpy as np\n",
    "\n",
    "    assert method in ['list', 'pairwise'], 'Invalid method %s' % method\n",
    "    loader = list_loader_even_prob if method == 'list' else pairwise_loader_even_prob\n",
    "\n",
    "    device = torch.device('cuda' if cuda==True else 'cpu')\n",
    "\n",
    "    if cuda:\n",
    "        model.cuda()\n",
    "\n",
    "    losses = []\n",
    "\n",
    "    t0 = time.time()\n",
    "    for epoch in range(n_epochs):\n",
    "        train_data = loader(\n",
    "            ratings\n",
    "            , items\n",
    "            , user_size=user_size\n",
    "            , pos_size=pos_size\n",
    "            , neg_size=neg_size)\n",
    "\n",
    "        for i, batch in enumerate(train_data):\n",
    "            if not negative_sampling:\n",
    "                user, pos_item = batch\n",
    "            else:\n",
    "                user, pos_item, neg_item = batch\n",
    "\n",
    "            model.zero_grad()\n",
    "\n",
    "            # variablize\n",
    "            user = autograd.Variable(LongTensor(user)).to(device)\n",
    "            pos_item = autograd.Variable(LongTensor(pos_item)).to(device)\n",
    "            if negative_sampling:\n",
    "                neg_item = autograd.Variable(LongTensor(neg_item)).to(device)\n",
    "\n",
    "            preds = model(user=user, pos_item=pos_item)\\\n",
    "                        .mean()\\\n",
    "                if not negative_sampling else \\\n",
    "                    model(user=user, pos_item=pos_item, neg_item=neg_item)\\\n",
    "                        .mean()\n",
    "\n",
    "            loss = MF_loss(preds)\n",
    "\n",
    "            loss.backward()\n",
    "            opt_fn.step()\n",
    "            losses.append(loss.data.to(device).tolist())\n",
    "\n",
    "        if epoch % 10 == 0:\n",
    "            t1=time.time()\n",
    "            print(f'Epoch: {epoch}, Time: {round(t1-t0,2)}, /Average loss {np.mean(losses[-10:]).round(5)}')\n",
    "            t0=time.time()\n",
    "\n",
    "    return model, losses"
   ],
   "metadata": {
    "collapsed": false
   }
  },
  {
   "cell_type": "code",
   "execution_count": 11,
   "outputs": [
    {
     "name": "stdout",
     "output_type": "stream",
     "text": [
      "Epoch: 0, Time: 2.88, /Average loss 7.96644\n",
      "Epoch: 10, Time: 0.39, /Average loss 7.68768\n",
      "Epoch: 20, Time: 0.44, /Average loss 7.44286\n",
      "Epoch: 30, Time: 0.51, /Average loss 7.16456\n",
      "Epoch: 40, Time: 0.44, /Average loss 6.8934\n",
      "Epoch: 50, Time: 0.47, /Average loss 6.67922\n",
      "Epoch: 60, Time: 0.4, /Average loss 6.40271\n",
      "Epoch: 70, Time: 0.37, /Average loss 6.22042\n",
      "Epoch: 80, Time: 0.38, /Average loss 5.98922\n",
      "Epoch: 90, Time: 0.38, /Average loss 5.74733\n",
      "Epoch: 100, Time: 0.46, /Average loss 5.52256\n",
      "Epoch: 110, Time: 0.41, /Average loss 5.35106\n",
      "Epoch: 120, Time: 0.38, /Average loss 5.08971\n",
      "Epoch: 130, Time: 0.37, /Average loss 4.95455\n",
      "Epoch: 140, Time: 0.35, /Average loss 4.78049\n",
      "Epoch: 150, Time: 0.5, /Average loss 4.58565\n",
      "Epoch: 160, Time: 0.43, /Average loss 4.41301\n",
      "Epoch: 170, Time: 0.36, /Average loss 4.27326\n",
      "Epoch: 180, Time: 0.48, /Average loss 4.12171\n",
      "Epoch: 190, Time: 0.39, /Average loss 3.93259\n",
      "Epoch: 200, Time: 0.37, /Average loss 3.81225\n",
      "Epoch: 210, Time: 0.38, /Average loss 3.68864\n",
      "Epoch: 220, Time: 0.48, /Average loss 3.52476\n",
      "Epoch: 230, Time: 0.49, /Average loss 3.43162\n",
      "Epoch: 240, Time: 0.39, /Average loss 3.32438\n",
      "Epoch: 250, Time: 0.38, /Average loss 3.21813\n",
      "Epoch: 260, Time: 0.39, /Average loss 3.08911\n",
      "Epoch: 270, Time: 0.36, /Average loss 3.00459\n",
      "Epoch: 280, Time: 0.37, /Average loss 2.90702\n",
      "Epoch: 290, Time: 0.38, /Average loss 2.81708\n",
      "Epoch: 300, Time: 0.37, /Average loss 2.70844\n",
      "Epoch: 310, Time: 0.36, /Average loss 2.60052\n",
      "Epoch: 320, Time: 0.36, /Average loss 2.54984\n",
      "Epoch: 330, Time: 0.36, /Average loss 2.44029\n",
      "Epoch: 340, Time: 0.36, /Average loss 2.37509\n",
      "Epoch: 350, Time: 0.43, /Average loss 2.31765\n",
      "Epoch: 360, Time: 0.42, /Average loss 2.23659\n",
      "Epoch: 370, Time: 0.36, /Average loss 2.17332\n",
      "Epoch: 380, Time: 0.36, /Average loss 2.10665\n",
      "Epoch: 390, Time: 0.38, /Average loss 2.04022\n",
      "Epoch: 400, Time: 0.39, /Average loss 1.97032\n",
      "Epoch: 410, Time: 0.38, /Average loss 1.92381\n",
      "Epoch: 420, Time: 0.38, /Average loss 1.86797\n",
      "Epoch: 430, Time: 0.39, /Average loss 1.81795\n",
      "Epoch: 440, Time: 0.38, /Average loss 1.77157\n",
      "Epoch: 450, Time: 0.39, /Average loss 1.72932\n",
      "Epoch: 460, Time: 0.38, /Average loss 1.67998\n",
      "Epoch: 470, Time: 0.37, /Average loss 1.63468\n",
      "Epoch: 480, Time: 0.43, /Average loss 1.58899\n",
      "Epoch: 490, Time: 0.41, /Average loss 1.55074\n",
      "Epoch: 500, Time: 0.37, /Average loss 1.52856\n",
      "Epoch: 510, Time: 0.37, /Average loss 1.47727\n"
     ]
    }
   ],
   "source": [
    "import torch.optim as optim\n",
    "\n",
    "cuda = torch.cuda.is_available()\n",
    "n_users = len(user2ix)\n",
    "n_items = len(item2ix)\n",
    "embed_size = 32\n",
    "\n",
    "num_epochs = 512 # Max number of training epochs\n",
    "lr = 0.01 # Set the learning rate\n",
    "reg = 0.01\n",
    "svd_raw = FunkSVD(n_users, n_items, embed_size, negative_sampling=False)\n",
    "opt_fn = optim.SGD(svd_raw.parameters(), lr=lr, weight_decay=reg, momentum=0.01) # Select an optimizer\n",
    "\n",
    "svd_raw, losses_r = train_model(\n",
    "    svd_raw\n",
    "    , ratings = rat_train_dict\n",
    "    , items = ix2item\n",
    "    , n_epochs = num_epochs\n",
    "    , opt_fn = opt_fn\n",
    "    , user_size = 512\n",
    "    , pos_size = 4\n",
    "    , negative_sampling=False\n",
    "    , cuda=True)"
   ],
   "metadata": {
    "collapsed": false
   }
  },
  {
   "cell_type": "code",
   "execution_count": 12,
   "outputs": [
    {
     "name": "stdout",
     "output_type": "stream",
     "text": [
      "Epoch: 0, Time: 0.23, /Average loss 7.92549\n",
      "Epoch: 10, Time: 3.54, /Average loss 6.81937\n",
      "Epoch: 20, Time: 2.21, /Average loss 5.91191\n",
      "Epoch: 30, Time: 2.43, /Average loss 5.05127\n",
      "Epoch: 40, Time: 5.76, /Average loss 4.38737\n",
      "Epoch: 50, Time: 28.72, /Average loss 3.77738\n",
      "Epoch: 60, Time: 28.58, /Average loss 3.27207\n",
      "Epoch: 70, Time: 24.22, /Average loss 2.87979\n",
      "Epoch: 80, Time: 2.2, /Average loss 2.47283\n",
      "Epoch: 90, Time: 2.26, /Average loss 2.20297\n",
      "Epoch: 100, Time: 2.14, /Average loss 1.94496\n",
      "Epoch: 110, Time: 2.42, /Average loss 1.74229\n",
      "Epoch: 120, Time: 2.16, /Average loss 1.59194\n",
      "Epoch: 130, Time: 2.27, /Average loss 1.44391\n",
      "Epoch: 140, Time: 2.25, /Average loss 1.32887\n",
      "Epoch: 150, Time: 2.36, /Average loss 1.22545\n",
      "Epoch: 160, Time: 2.15, /Average loss 1.1472\n",
      "Epoch: 170, Time: 2.23, /Average loss 1.07586\n",
      "Epoch: 180, Time: 2.31, /Average loss 1.02399\n",
      "Epoch: 190, Time: 2.18, /Average loss 0.97426\n",
      "Epoch: 200, Time: 2.28, /Average loss 0.93171\n",
      "Epoch: 210, Time: 2.34, /Average loss 0.90094\n",
      "Epoch: 220, Time: 2.37, /Average loss 0.86984\n",
      "Epoch: 230, Time: 2.15, /Average loss 0.84414\n",
      "Epoch: 240, Time: 2.37, /Average loss 0.82368\n",
      "Epoch: 250, Time: 2.3, /Average loss 0.80537\n",
      "Epoch: 260, Time: 2.23, /Average loss 0.79101\n",
      "Epoch: 270, Time: 2.14, /Average loss 0.77635\n",
      "Epoch: 280, Time: 2.3, /Average loss 0.76791\n",
      "Epoch: 290, Time: 2.26, /Average loss 0.7561\n",
      "Epoch: 300, Time: 2.14, /Average loss 0.74845\n",
      "Epoch: 310, Time: 2.31, /Average loss 0.74123\n",
      "Epoch: 320, Time: 2.3, /Average loss 0.73487\n",
      "Epoch: 330, Time: 2.29, /Average loss 0.72891\n",
      "Epoch: 340, Time: 2.13, /Average loss 0.72419\n",
      "Epoch: 350, Time: 2.45, /Average loss 0.72064\n",
      "Epoch: 360, Time: 2.21, /Average loss 0.71635\n",
      "Epoch: 370, Time: 2.22, /Average loss 0.71372\n",
      "Epoch: 380, Time: 2.25, /Average loss 0.71074\n",
      "Epoch: 390, Time: 2.34, /Average loss 0.70832\n",
      "Epoch: 400, Time: 2.25, /Average loss 0.70663\n",
      "Epoch: 410, Time: 2.16, /Average loss 0.70489\n",
      "Epoch: 420, Time: 2.37, /Average loss 0.70322\n",
      "Epoch: 430, Time: 2.21, /Average loss 0.70179\n",
      "Epoch: 440, Time: 2.28, /Average loss 0.7006\n",
      "Epoch: 450, Time: 2.23, /Average loss 0.69978\n",
      "Epoch: 460, Time: 2.47, /Average loss 0.69875\n",
      "Epoch: 470, Time: 9.7, /Average loss 0.69822\n",
      "Epoch: 480, Time: 27.78, /Average loss 0.69748\n",
      "Epoch: 490, Time: 28.14, /Average loss 0.6968\n",
      "Epoch: 500, Time: 21.74, /Average loss 0.69645\n",
      "Epoch: 510, Time: 2.27, /Average loss 0.696\n"
     ]
    }
   ],
   "source": [
    "import torch.optim as optim\n",
    "\n",
    "cuda = torch.cuda.is_available()\n",
    "n_users = len(user2ix)\n",
    "n_items = len(item2ix)\n",
    "embed_size = 32\n",
    "\n",
    "num_epochs = 512 # Max number of training epochs\n",
    "lr = 0.01 # Set the learning rate\n",
    "reg = 0.01\n",
    "svd_p = FunkSVD(n_users, n_items, embed_size, negative_sampling=False)\n",
    "opt_fn = optim.SGD(svd_p.parameters(), lr=lr, weight_decay=reg, momentum=0.01) # Select an optimizer\n",
    "\n",
    "svd_p, losses_p = train_model(\n",
    "    svd_p\n",
    "    , ratings = rat_train_dict\n",
    "    , items = ix2item\n",
    "    , n_epochs = num_epochs\n",
    "    , opt_fn = opt_fn\n",
    "    , user_size = 512\n",
    "    , pos_size = 4\n",
    "    , neg_size = 4\n",
    "    , negative_sampling=True\n",
    "    , method = 'pairwise'\n",
    "    , cuda=True)"
   ],
   "metadata": {
    "collapsed": false
   }
  },
  {
   "cell_type": "code",
   "execution_count": 13,
   "outputs": [
    {
     "data": {
      "text/plain": "[<matplotlib.lines.Line2D at 0x26e7a75d730>]"
     },
     "execution_count": 13,
     "metadata": {},
     "output_type": "execute_result"
    },
    {
     "data": {
      "text/plain": "<Figure size 432x288 with 1 Axes>",
      "image/png": "[encoded data removed]"
     },
     "metadata": {
      "needs_background": "light"
     },
     "output_type": "display_data"
    }
   ],
   "source": [
    "import matplotlib.pyplot as plt\n",
    "\n",
    "plt.plot(list(range(len(losses_p))), losses_p)"
   ],
   "metadata": {
    "collapsed": false
   }
  },
  {
   "cell_type": "code",
   "execution_count": 14,
   "outputs": [
    {
     "name": "stdout",
     "output_type": "stream",
     "text": [
      "Epoch: 0, Time: 2.28, /Average loss 4.89041\n",
      "Epoch: 10, Time: 1.72, /Average loss 4.71458\n",
      "Epoch: 20, Time: 1.41, /Average loss 4.53104\n",
      "Epoch: 30, Time: 1.74, /Average loss 4.38551\n",
      "Epoch: 40, Time: 1.67, /Average loss 4.25303\n",
      "Epoch: 50, Time: 1.71, /Average loss 4.09331\n",
      "Epoch: 60, Time: 2.35, /Average loss 3.98836\n",
      "Epoch: 70, Time: 1.65, /Average loss 3.82604\n",
      "Epoch: 80, Time: 1.42, /Average loss 3.71986\n",
      "Epoch: 90, Time: 1.67, /Average loss 3.60079\n",
      "Epoch: 100, Time: 1.62, /Average loss 3.46325\n",
      "Epoch: 110, Time: 1.5, /Average loss 3.40526\n",
      "Epoch: 120, Time: 1.61, /Average loss 3.25116\n",
      "Epoch: 130, Time: 1.6, /Average loss 3.14378\n",
      "Epoch: 140, Time: 1.44, /Average loss 3.05709\n",
      "Epoch: 150, Time: 1.62, /Average loss 2.97648\n",
      "Epoch: 160, Time: 1.65, /Average loss 2.88008\n",
      "Epoch: 170, Time: 1.51, /Average loss 2.7803\n",
      "Epoch: 180, Time: 1.39, /Average loss 2.68534\n",
      "Epoch: 190, Time: 1.57, /Average loss 2.58931\n",
      "Epoch: 200, Time: 1.58, /Average loss 2.53625\n",
      "Epoch: 210, Time: 1.52, /Average loss 2.44394\n",
      "Epoch: 220, Time: 1.77, /Average loss 2.37456\n",
      "Epoch: 230, Time: 1.43, /Average loss 2.31121\n",
      "Epoch: 240, Time: 1.66, /Average loss 2.25899\n",
      "Epoch: 250, Time: 1.85, /Average loss 2.16388\n",
      "Epoch: 260, Time: 1.58, /Average loss 2.13713\n",
      "Epoch: 270, Time: 1.84, /Average loss 2.06808\n",
      "Epoch: 280, Time: 1.85, /Average loss 2.00367\n",
      "Epoch: 290, Time: 1.87, /Average loss 1.96181\n",
      "Epoch: 300, Time: 1.65, /Average loss 1.90992\n",
      "Epoch: 310, Time: 1.66, /Average loss 1.8534\n",
      "Epoch: 320, Time: 1.41, /Average loss 1.80831\n",
      "Epoch: 330, Time: 1.39, /Average loss 1.77646\n",
      "Epoch: 340, Time: 1.63, /Average loss 1.72037\n",
      "Epoch: 350, Time: 1.63, /Average loss 1.68624\n",
      "Epoch: 360, Time: 2.51, /Average loss 1.65063\n",
      "Epoch: 370, Time: 2.16, /Average loss 1.60804\n",
      "Epoch: 380, Time: 1.61, /Average loss 1.57083\n",
      "Epoch: 390, Time: 1.86, /Average loss 1.52768\n",
      "Epoch: 400, Time: 2.69, /Average loss 1.49604\n",
      "Epoch: 410, Time: 1.54, /Average loss 1.45501\n",
      "Epoch: 420, Time: 1.67, /Average loss 1.43327\n",
      "Epoch: 430, Time: 1.57, /Average loss 1.40301\n",
      "Epoch: 440, Time: 1.57, /Average loss 1.38308\n",
      "Epoch: 450, Time: 1.56, /Average loss 1.36186\n",
      "Epoch: 460, Time: 1.54, /Average loss 1.33516\n",
      "Epoch: 470, Time: 1.48, /Average loss 1.30971\n",
      "Epoch: 480, Time: 1.79, /Average loss 1.27763\n",
      "Epoch: 490, Time: 1.48, /Average loss 1.26617\n",
      "Epoch: 500, Time: 1.4, /Average loss 1.23254\n",
      "Epoch: 510, Time: 2.0, /Average loss 1.20947\n"
     ]
    }
   ],
   "source": [
    "from torch import LongTensor\n",
    "import torch.autograd as autograd\n",
    "import torch.optim as optim\n",
    "import numpy as np\n",
    "import time\n",
    "\n",
    "cuda = torch.cuda.is_available()\n",
    "n_users = len(user2ix)\n",
    "n_items = len(item2ix)\n",
    "embed_size = 32\n",
    "\n",
    "num_epochs = 512 # Max number of training epochs\n",
    "lr = 0.01 # Set the learning rate\n",
    "reg = 0.01\n",
    "svd_l = FunkSVD(n_users, n_items, embed_size, negative_sampling=True)\n",
    "opt_fn = optim.SGD(svd_l.parameters(), lr=lr, weight_decay=reg, momentum=0.01) # Select an optimizer\n",
    "\n",
    "svd_l, losses_l = train_model(\n",
    "    svd_l\n",
    "    , ratings = rat_train_dict\n",
    "    , items = ix2item\n",
    "    , n_epochs = num_epochs\n",
    "    , opt_fn = opt_fn\n",
    "    , user_size = 512\n",
    "    , pos_size = 4\n",
    "    , neg_size = 4\n",
    "    , negative_sampling=True\n",
    "    , method = 'list'\n",
    "    , cuda = True\n",
    ")"
   ],
   "metadata": {
    "collapsed": false
   }
  },
  {
   "cell_type": "code",
   "execution_count": 16,
   "outputs": [
    {
     "data": {
      "text/plain": "[<matplotlib.lines.Line2D at 0x26e7dfe7af0>]"
     },
     "execution_count": 16,
     "metadata": {},
     "output_type": "execute_result"
    },
    {
     "data": {
      "text/plain": "<Figure size 432x288 with 1 Axes>",
      "image/png": "[encoded data removed]"
     },
     "metadata": {
      "needs_background": "light"
     },
     "output_type": "display_data"
    }
   ],
   "source": [
    "import matplotlib.pyplot as plt\n",
    "\n",
    "plt.plot(list(range(len(losses_l))), losses_l)"
   ],
   "metadata": {
    "collapsed": false
   }
  },
  {
   "cell_type": "code",
   "execution_count": 17,
   "outputs": [],
   "source": [
    "svd_raw = svd_raw.to('cpu')\n",
    "svd_p = svd_p.to('cpu')\n",
    "svd_l = svd_l.to('cpu')"
   ],
   "metadata": {
    "collapsed": false
   }
  },
  {
   "cell_type": "markdown",
   "source": [
    "测试方法为：在集合【去除训练item的物品集】中预测用户对商品的评分"
   ],
   "metadata": {
    "collapsed": false
   }
  },
  {
   "cell_type": "code",
   "execution_count": 18,
   "outputs": [],
   "source": [
    "def generate_testing_candidates(rating_train, items):\n",
    "    items_set = set(list(items.keys()))\n",
    "    testing_cand = {}\n",
    "    for user in rating_train:\n",
    "        testing_cand[user] = list(items_set-set(rating_train[user].keys()))\n",
    "    return testing_cand\n",
    "\n",
    "testing_candidates = generate_testing_candidates(rat_train_dict, ix2item)"
   ],
   "metadata": {
    "collapsed": false
   }
  },
  {
   "cell_type": "code",
   "execution_count": 19,
   "outputs": [],
   "source": [
    "def predict_recommendation(model, test_cands):\n",
    "    from torch import tensor\n",
    "\n",
    "    predict = {}\n",
    "    for user in test_cands:\n",
    "        items = test_cands[user]\n",
    "        # dot product as estimation of rating\n",
    "        pred = model.embedding_user(tensor([user])) \\\n",
    "               @ model.embedding_item(tensor(items)).T\n",
    "        pred_ix = torch.argsort(-pred)\n",
    "        predict[user] = [items[ix] for ix in pred_ix[0]]\n",
    "\n",
    "    return predict\n",
    "\n",
    "pred_dict_raw = predict_recommendation(svd_raw, testing_candidates)\n",
    "pred_dict_p = predict_recommendation(svd_p, testing_candidates)\n",
    "pred_dict_l = predict_recommendation(svd_l, testing_candidates)\n"
   ],
   "metadata": {
    "collapsed": false
   }
  },
  {
   "cell_type": "code",
   "execution_count": 20,
   "outputs": [
    {
     "data": {
      "text/plain": "<Figure size 432x288 with 1 Axes>",
      "image/png": "[encoded data removed]"
     },
     "metadata": {
      "needs_background": "light"
     },
     "output_type": "display_data"
    }
   ],
   "source": [
    "\"\"\"\n",
    "Metric: https://towardsdatascience.com/ranking-evaluation-metrics-for-recommender-systems-263d0a66ef54\n",
    "\"\"\"\n",
    "\n",
    "def _f1(k, test, predict):\n",
    "    \"\"\" Compute f1 score for each user\n",
    "\n",
    "    :param k: int\n",
    "    :param test: list of int\n",
    "    :param predict: list of int\n",
    "    :return tp_value: float\n",
    "    \"\"\"\n",
    "    max_eval_size = min(k, len(predict)) # in case user has little candidate item\n",
    "    tp = 0\n",
    "    for i in range(max_eval_size):\n",
    "        if predict[i] in test:\n",
    "            tp += 1\n",
    "    return 2*tp/(max_eval_size + len(test))\n",
    "\n",
    "\n",
    "def f1_ak_k(k, test_dict, pred_dict):\n",
    "    res = []\n",
    "    for user in test_dict:\n",
    "        res.append(_f1(k, test_dict[user], pred_dict[user]))\n",
    "    return sum(res)/len(test_dict)\n",
    "\n",
    "k = 20\n",
    "f1_raw = [f1_ak_k(ki, rat_test_dict, pred_dict_raw) for ki in range(k)]\n",
    "f1_p = [f1_ak_k(ki, rat_test_dict, pred_dict_p) for ki in range(k)]\n",
    "f1_l = [f1_ak_k(ki, rat_test_dict, pred_dict_l) for ki in range(k)]\n",
    "\n",
    "plt.plot(list(range(k)), f1_raw, label='raw')\n",
    "plt.plot(list(range(k)), f1_p, label='pairwise')\n",
    "plt.plot(list(range(k)), f1_l, label='listwise')\n",
    "\n",
    "plt.legend()\n",
    "\n",
    "plt.show()"
   ],
   "metadata": {
    "collapsed": false
   }
  },
  {
   "cell_type": "code",
   "execution_count": 21,
   "outputs": [
    {
     "data": {
      "text/plain": "<Figure size 432x288 with 1 Axes>",
      "image/png": "[encoded data removed]"
     },
     "metadata": {
      "needs_background": "light"
     },
     "output_type": "display_data"
    }
   ],
   "source": [
    "def _hr(k, test, pred):\n",
    "    if isinstance(pred, dict):\n",
    "        pred = list(pred.keys())\n",
    "\n",
    "    if k - len(set(pred[:k])-set(test)) > 0:\n",
    "        return 1\n",
    "    else:\n",
    "        return 0\n",
    "\n",
    "def hit_rate_at_k(k, test_dict, pred_dict):\n",
    "    res = []\n",
    "    for user in test_dict:\n",
    "        res.append(_hr(k, list(test_dict[user]), pred_dict[user]))\n",
    "    return sum(res)/len(test_dict)\n",
    "\n",
    "\n",
    "k = 20\n",
    "hr_raw = [hit_rate_at_k(ki, rat_test_dict, pred_dict_raw) for ki in range(k)]\n",
    "hr_p = [hit_rate_at_k(ki, rat_test_dict, pred_dict_p) for ki in range(k)]\n",
    "hr_l = [hit_rate_at_k(ki, rat_test_dict, pred_dict_l) for ki in range(k)]\n",
    "\n",
    "plt.plot(list(range(k)), hr_raw, label='raw')\n",
    "plt.plot(list(range(k)), hr_p, label='pairwise')\n",
    "plt.plot(list(range(k)), hr_l, label='listwise')\n",
    "\n",
    "plt.legend()\n",
    "\n",
    "plt.show()"
   ],
   "metadata": {
    "collapsed": false
   }
  },
  {
   "cell_type": "code",
   "execution_count": 22,
   "outputs": [
    {
     "data": {
      "text/plain": "[9263, 5427]"
     },
     "execution_count": 22,
     "metadata": {},
     "output_type": "execute_result"
    }
   ],
   "source": [
    "pred_dict_raw[0][:2]"
   ],
   "metadata": {
    "collapsed": false
   }
  },
  {
   "cell_type": "code",
   "execution_count": 23,
   "outputs": [
    {
     "data": {
      "text/plain": "<Figure size 432x288 with 1 Axes>",
      "image/png": "[encoded data removed]"
     },
     "metadata": {
      "needs_background": "light"
     },
     "output_type": "display_data"
    }
   ],
   "source": [
    "def _map(k, test, pred):\n",
    "    if isinstance(pred, dict):\n",
    "        pred = list(pred.keys())\n",
    "\n",
    "    if not k:\n",
    "        return 0\n",
    "\n",
    "    max_eval_size = min(k, len(pred))\n",
    "    x, s = 0, 0\n",
    "    for i in range(max_eval_size):\n",
    "        if pred[i] in test:\n",
    "            x += 1\n",
    "            s += x/(i+1)\n",
    "\n",
    "    return s/max_eval_size # average precision\n",
    "\n",
    "def map_at_k(k, test_dict, pred_dict):\n",
    "    res = []\n",
    "    for user in test_dict:\n",
    "        res.append(_map(k, list(test_dict[user]), pred_dict[user]))\n",
    "    # mean of average precision\n",
    "    return sum(res)/len(test_dict)\n",
    "\n",
    "k = 20\n",
    "map_raw = [map_at_k(ki, rat_test_dict, pred_dict_raw) for ki in range(k)]\n",
    "map_p = [map_at_k(ki, rat_test_dict, pred_dict_p) for ki in range(k)]\n",
    "map_l = [map_at_k(ki, rat_test_dict, pred_dict_l) for ki in range(k)]\n",
    "\n",
    "plt.plot(list(range(k)), map_raw, label='raw')\n",
    "plt.plot(list(range(k)), map_p, label='pairwise')\n",
    "plt.plot(list(range(k)), map_l, label='listwise')\n",
    "\n",
    "plt.legend()\n",
    "\n",
    "plt.show()"
   ],
   "metadata": {
    "collapsed": false
   }
  },
  {
   "cell_type": "code",
   "execution_count": 24,
   "outputs": [
    {
     "data": {
      "text/plain": "<Figure size 432x288 with 1 Axes>",
      "image/png": "[encoded data removed]"
     },
     "metadata": {
      "needs_background": "light"
     },
     "output_type": "display_data"
    }
   ],
   "source": [
    "def _dcg(score):\n",
    "    if len(score)==0:\n",
    "        return 0\n",
    "\n",
    "    from math import log\n",
    "    dcg = 0\n",
    "    for ix, score_i in enumerate(score):\n",
    "        if score_i != 0:\n",
    "            dcg += score_i / log(ix+2, 2)\n",
    "    return dcg\n",
    "\n",
    "def _ndcg(k, test, pred, use_score):\n",
    "    if isinstance(pred, dict) and use_score:\n",
    "        score = [test[pred_i] if pred_i in test else 0\n",
    "                 for pred_i in pred[:k]]\n",
    "    else:\n",
    "        score = [1 if pred_i in test else 0\n",
    "                 for pred_i in pred[:k]]\n",
    "\n",
    "    return _dcg(score)\n",
    "\n",
    "def ndcg(k, test, predict, use_score=True):\n",
    "    res = []\n",
    "    for user in test:\n",
    "        res.append(_ndcg(k, test[user], predict[user], use_score))\n",
    "    return sum(res) / len(test)\n",
    "\n",
    "k = 20\n",
    "ndcg_raw = [ndcg(ki, rat_test_dict, pred_dict_raw) for ki in range(k)]\n",
    "ndcg_p = [ndcg(ki, rat_test_dict, pred_dict_p) for ki in range(k)]\n",
    "ndcg_l = [ndcg(ki, rat_test_dict, pred_dict_l) for ki in range(k)]\n",
    "\n",
    "plt.plot(list(range(k)), ndcg_raw, label='raw')\n",
    "plt.plot(list(range(k)), ndcg_p, label='pairwise')\n",
    "plt.plot(list(range(k)), ndcg_l, label='listwise')\n",
    "\n",
    "plt.legend()\n",
    "\n",
    "plt.show()"
   ],
   "metadata": {
    "collapsed": false
   }
  },
  {
   "cell_type": "code",
   "execution_count": null,
   "outputs": [],
   "source": [],
   "metadata": {
    "collapsed": false,
    "pycharm": {
     "is_executing": true
    }
   }
  },
  {
   "cell_type": "code",
   "execution_count": null,
   "outputs": [],
   "source": [],
   "metadata": {
    "collapsed": false,
    "pycharm": {
     "is_executing": true
    }
   }
  },
  {
   "cell_type": "code",
   "execution_count": 24,
   "outputs": [],
   "source": [],
   "metadata": {
    "collapsed": false
   }
  }
 ],
 "metadata": {
  "kernelspec": {
   "display_name": "Python 3.8.10 64-bit",
   "language": "python",
   "name": "python3"
  },
  "language_info": {
   "codemirror_mode": {
    "name": "ipython",
    "version": 3
   },
   "file_extension": ".py",
   "mimetype": "text/x-python",
   "name": "python",
   "nbconvert_exporter": "python",
   "pygments_lexer": "ipython3",
   "version": "3.8.10"
  },
  "orig_nbformat": 4,
  "vscode": {
   "interpreter": {
    "hash": "00499476119a38fdac92034240d7ef2fa4f5985bf02d398f0fd3693908f0286e"
   }
  }
 },
 "nbformat": 4,
 "nbformat_minor": 2
}
