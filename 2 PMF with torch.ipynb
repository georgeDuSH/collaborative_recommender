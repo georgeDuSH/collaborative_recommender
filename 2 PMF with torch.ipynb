{
 "cells": [
  {
   "cell_type": "code",
   "execution_count": 1,
   "metadata": {},
   "outputs": [
    {
     "name": "stdout",
     "output_type": "stream",
     "text": [
      "Users: 610, Items: 9724. Sparsity: 0.983\n",
      "User reduced from 610 to 607\n"
     ]
    }
   ],
   "source": [
    "from recom.datasets import load_ml_small_rating\n",
    "\n",
    "# load data\n",
    "dataset = load_ml_small_rating(need_raw=True)\n",
    "\n",
    "# load features\n",
    "ratings = dataset['raw']\n",
    "ratings_train_dict = dataset['train_dict']\n",
    "ratings_test_dict = dataset['test_dict']\n",
    "n_user = dataset['n_user']\n",
    "n_item = dataset['n_item']\n",
    "user2ix = dataset['user2ix']\n",
    "ix2user = dataset['ix2user']\n",
    "item2ix = dataset['item2ix']\n",
    "ix2item = dataset['ix2item']\n",
    "\n",
    "del dataset\n",
    "\n",
    "print(f'Users: {n_user}, Items: {n_item}. Sparsity: {round(1-len(ratings)/n_user/n_item, 4)}')\n",
    "print(f'User reduced from {len(user2ix.keys())} to {len(ratings_train_dict.keys())}')"
   ]
  },
  {
   "cell_type": "code",
   "execution_count": 2,
   "metadata": {},
   "outputs": [],
   "source": [
    "import torch.nn as nn\n",
    "from torch import Tensor, LongTensor\n",
    "\n",
    "\n",
    "class PMF(nn.Module):\n",
    "    def __init__(self, n_user, n_item, k_dim\n",
    "                 , std_user=1, std_item=1):\n",
    "        super(PMF, self).__init__()\n",
    "        self.n_user = n_user\n",
    "        self.n_item = n_item\n",
    "        # embeddings of interest\n",
    "        self.embedding_user = nn.Embedding(n_user, k_dim)\n",
    "        self.embedding_item = nn.Embedding(n_item, k_dim)\n",
    "        # init param\n",
    "        nn.init.normal_(self.embedding_user.weight, mean=0, std=std_user)\n",
    "        nn.init.normal_(self.embedding_item.weight, mean=0, std=std_item)\n",
    "\n",
    "    def pred_all(self, ):\n",
    "        return self.embedding_user.weight \\\n",
    "               @ self.embedding_item.weight.T \n",
    "\n",
    "    def forward(self, user, item):\n",
    "        return (self.embedding_user(user) \\\n",
    "                * self.embedding_item(item)).sum(1)"
   ]
  },
  {
   "cell_type": "code",
   "execution_count": 6,
   "metadata": {},
   "outputs": [
    {
     "data": {
      "text/plain": [
       "torch.Size([610, 9724])"
      ]
     },
     "execution_count": 6,
     "metadata": {},
     "output_type": "execute_result"
    }
   ],
   "source": [
    "pmf = PMF(n_user, n_item, 16)\n",
    "\n",
    "(pmf.embedding_user.weight@pmf.embedding_item.weight.T).shape"
   ]
  }
 ],
 "metadata": {
  "kernelspec": {
   "display_name": "Python 3",
   "language": "python",
   "name": "python3"
  },
  "language_info": {
   "codemirror_mode": {
    "name": "ipython",
    "version": 3
   },
   "file_extension": ".py",
   "mimetype": "text/x-python",
   "name": "python",
   "nbconvert_exporter": "python",
   "pygments_lexer": "ipython3",
   "version": "3.8.10"
  },
  "orig_nbformat": 4,
  "vscode": {
   "interpreter": {
    "hash": "00499476119a38fdac92034240d7ef2fa4f5985bf02d398f0fd3693908f0286e"
   }
  }
 },
 "nbformat": 4,
 "nbformat_minor": 2
}
